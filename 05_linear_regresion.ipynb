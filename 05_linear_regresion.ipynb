{
  "nbformat": 4,
  "nbformat_minor": 0,
  "metadata": {
    "colab": {
      "name": "05_linear_regresion.ipynb",
      "provenance": [],
      "collapsed_sections": [],
      "authorship_tag": "ABX9TyMcb/X7Mz/FuoGsS0/1SSsQ",
      "include_colab_link": true
    },
    "kernelspec": {
      "name": "python3",
      "display_name": "Python 3"
    }
  },
  "cells": [
    {
      "cell_type": "markdown",
      "metadata": {
        "id": "view-in-github",
        "colab_type": "text"
      },
      "source": [
        "<a href=\"https://colab.research.google.com/github/romanowiczadam/ml_course/blob/master/05_linear_regresion.ipynb\" target=\"_parent\"><img src=\"https://colab.research.google.com/assets/colab-badge.svg\" alt=\"Open In Colab\"/></a>"
      ]
    },
    {
      "cell_type": "code",
      "metadata": {
        "id": "zL_eaaYqqPFH",
        "colab_type": "code",
        "colab": {}
      },
      "source": [
        "import numpy as np"
      ],
      "execution_count": null,
      "outputs": []
    },
    {
      "cell_type": "code",
      "metadata": {
        "id": "zRdEFcjXiS9c",
        "colab_type": "code",
        "colab": {}
      },
      "source": [
        "X1 = np.array([1,2,3,4,5,6])\n",
        "Y = np.array([3000, 3250, 3500, 3750, 4000, 4250])\n",
        "m = len(X1)\n",
        "ONES = np.ones((m,1))"
      ],
      "execution_count": null,
      "outputs": []
    },
    {
      "cell_type": "code",
      "metadata": {
        "id": "fqczHbldmn4r",
        "colab_type": "code",
        "colab": {
          "base_uri": "https://localhost:8080/",
          "height": 52
        },
        "outputId": "ce2e1ced-698a-49a8-dbc5-7f4ee1a59957"
      },
      "source": [
        "X1 = X1.reshape(m, 1)\n",
        "ONES = ONES.reshape(m, 1)\n",
        "print(X1.shape)\n",
        "print(X1.shape)"
      ],
      "execution_count": null,
      "outputs": [
        {
          "output_type": "stream",
          "text": [
            "(6, 1)\n",
            "(6, 1)\n"
          ],
          "name": "stdout"
        }
      ]
    },
    {
      "cell_type": "code",
      "metadata": {
        "id": "U8749b6jnDRw",
        "colab_type": "code",
        "colab": {
          "base_uri": "https://localhost:8080/",
          "height": 124
        },
        "outputId": "8f0be4d5-4254-400e-c29c-5f193c31a73d"
      },
      "source": [
        "X = np.append(ONES, X1, axis = 1)\n",
        "X"
      ],
      "execution_count": null,
      "outputs": [
        {
          "output_type": "execute_result",
          "data": {
            "text/plain": [
              "array([[1., 1.],\n",
              "       [1., 2.],\n",
              "       [1., 3.],\n",
              "       [1., 4.],\n",
              "       [1., 5.],\n",
              "       [1., 6.]])"
            ]
          },
          "metadata": {
            "tags": []
          },
          "execution_count": 65
        }
      ]
    },
    {
      "cell_type": "code",
      "metadata": {
        "id": "-xYUQhyrnYce",
        "colab_type": "code",
        "colab": {
          "base_uri": "https://localhost:8080/",
          "height": 52
        },
        "outputId": "c3398c1b-b3f0-4c09-d39b-5c0d4c51e430"
      },
      "source": [
        "W = ( np.linalg.inv((X.T @ X)) ) @ (X.T @ Y)\n",
        "# zamiast @ mozna uzyc fukncji np.dot(X.T, X)\n",
        "W"
      ],
      "execution_count": null,
      "outputs": [
        {
          "output_type": "execute_result",
          "data": {
            "text/plain": [
              "array([[2750.],\n",
              "       [ 250.]])"
            ]
          },
          "metadata": {
            "tags": []
          },
          "execution_count": 66
        }
      ]
    },
    {
      "cell_type": "markdown",
      "metadata": {
        "id": "nvzfLEI43sOT",
        "colab_type": "text"
      },
      "source": [
        "Końcowa postać modułu Y= 2750 +250 X1"
      ]
    },
    {
      "cell_type": "code",
      "metadata": {
        "id": "Yjut_M0S31DY",
        "colab_type": "code",
        "colab": {
          "base_uri": "https://localhost:8080/",
          "height": 52
        },
        "outputId": "9d810e49-41ca-472a-ab16-ef1496f039d8"
      },
      "source": [
        "# przy pomocy scikitlearn\n",
        "from sklearn.linear_model import LinearRegression\n",
        "\n",
        "regression = LinearRegression()\n",
        "regression.fit(X1, Y)\n",
        "\n",
        "# wyprintowanie wspolczynnikow\n",
        "print(regression.intercept_)\n",
        "print(regression.coef_[0])"
      ],
      "execution_count": null,
      "outputs": [
        {
          "output_type": "stream",
          "text": [
            "[2750.]\n",
            "[250.]\n"
          ],
          "name": "stdout"
        }
      ]
    }
  ]
}