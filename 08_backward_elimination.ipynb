{
  "nbformat": 4,
  "nbformat_minor": 0,
  "metadata": {
    "colab": {
      "name": "08_backward_elimination.ipynb",
      "provenance": [],
      "collapsed_sections": [],
      "authorship_tag": "ABX9TyPVntzBx+VhoYOQX4RokNcv",
      "include_colab_link": true
    },
    "kernelspec": {
      "name": "python3",
      "display_name": "Python 3"
    }
  },
  "cells": [
    {
      "cell_type": "markdown",
      "metadata": {
        "id": "view-in-github",
        "colab_type": "text"
      },
      "source": [
        "<a href=\"https://colab.research.google.com/github/romanowiczadam/ml_course/blob/master/08_backward_elimination.ipynb\" target=\"_parent\"><img src=\"https://colab.research.google.com/assets/colab-badge.svg\" alt=\"Open In Colab\"/></a>"
      ]
    },
    {
      "cell_type": "code",
      "metadata": {
        "id": "spoPyVSxcG35",
        "colab_type": "code",
        "colab": {
          "base_uri": "https://localhost:8080/",
          "height": 36
        },
        "outputId": "f2eec8a1-6415-4d02-f0db-9b5d2dd89dbf"
      },
      "source": [
        "import numpy as np\n",
        "import pandas as pd\n",
        "import sklearn\n",
        "import matplotlib.pyplot as plt\n",
        "import seaborn as sns\n",
        "\n",
        "np.random.seed(42)\n",
        "np.set_printoptions(precision = 4, suppress = True)\n",
        "sns.set(font_scale=1.3)\n",
        "sklearn.__version__"
      ],
      "execution_count": 123,
      "outputs": [
        {
          "output_type": "execute_result",
          "data": {
            "application/vnd.google.colaboratory.intrinsic": {
              "type": "string"
            },
            "text/plain": [
              "'0.22.2.post1'"
            ]
          },
          "metadata": {
            "tags": []
          },
          "execution_count": 123
        }
      ]
    },
    {
      "cell_type": "code",
      "metadata": {
        "id": "D9GROnWwImr9",
        "colab_type": "code",
        "colab": {
          "base_uri": "https://localhost:8080/",
          "height": 399
        },
        "outputId": "e55165bd-f177-476b-d285-7a79fcd0151e"
      },
      "source": [
        "df_raw = pd.read_csv('https://storage.googleapis.com/esmartdata-courses-files/ml-course/insurance.csv')\n",
        "df_raw"
      ],
      "execution_count": 124,
      "outputs": [
        {
          "output_type": "execute_result",
          "data": {
            "text/html": [
              "<div>\n",
              "<style scoped>\n",
              "    .dataframe tbody tr th:only-of-type {\n",
              "        vertical-align: middle;\n",
              "    }\n",
              "\n",
              "    .dataframe tbody tr th {\n",
              "        vertical-align: top;\n",
              "    }\n",
              "\n",
              "    .dataframe thead th {\n",
              "        text-align: right;\n",
              "    }\n",
              "</style>\n",
              "<table border=\"1\" class=\"dataframe\">\n",
              "  <thead>\n",
              "    <tr style=\"text-align: right;\">\n",
              "      <th></th>\n",
              "      <th>age</th>\n",
              "      <th>sex</th>\n",
              "      <th>bmi</th>\n",
              "      <th>children</th>\n",
              "      <th>smoker</th>\n",
              "      <th>region</th>\n",
              "      <th>charges</th>\n",
              "    </tr>\n",
              "  </thead>\n",
              "  <tbody>\n",
              "    <tr>\n",
              "      <th>0</th>\n",
              "      <td>19</td>\n",
              "      <td>female</td>\n",
              "      <td>27.900</td>\n",
              "      <td>0</td>\n",
              "      <td>yes</td>\n",
              "      <td>southwest</td>\n",
              "      <td>16884.92400</td>\n",
              "    </tr>\n",
              "    <tr>\n",
              "      <th>1</th>\n",
              "      <td>18</td>\n",
              "      <td>male</td>\n",
              "      <td>33.770</td>\n",
              "      <td>1</td>\n",
              "      <td>no</td>\n",
              "      <td>southeast</td>\n",
              "      <td>1725.55230</td>\n",
              "    </tr>\n",
              "    <tr>\n",
              "      <th>2</th>\n",
              "      <td>28</td>\n",
              "      <td>male</td>\n",
              "      <td>33.000</td>\n",
              "      <td>3</td>\n",
              "      <td>no</td>\n",
              "      <td>southeast</td>\n",
              "      <td>4449.46200</td>\n",
              "    </tr>\n",
              "    <tr>\n",
              "      <th>3</th>\n",
              "      <td>33</td>\n",
              "      <td>male</td>\n",
              "      <td>22.705</td>\n",
              "      <td>0</td>\n",
              "      <td>no</td>\n",
              "      <td>northwest</td>\n",
              "      <td>21984.47061</td>\n",
              "    </tr>\n",
              "    <tr>\n",
              "      <th>4</th>\n",
              "      <td>32</td>\n",
              "      <td>male</td>\n",
              "      <td>28.880</td>\n",
              "      <td>0</td>\n",
              "      <td>no</td>\n",
              "      <td>northwest</td>\n",
              "      <td>3866.85520</td>\n",
              "    </tr>\n",
              "    <tr>\n",
              "      <th>...</th>\n",
              "      <td>...</td>\n",
              "      <td>...</td>\n",
              "      <td>...</td>\n",
              "      <td>...</td>\n",
              "      <td>...</td>\n",
              "      <td>...</td>\n",
              "      <td>...</td>\n",
              "    </tr>\n",
              "    <tr>\n",
              "      <th>1333</th>\n",
              "      <td>50</td>\n",
              "      <td>male</td>\n",
              "      <td>30.970</td>\n",
              "      <td>3</td>\n",
              "      <td>no</td>\n",
              "      <td>northwest</td>\n",
              "      <td>10600.54830</td>\n",
              "    </tr>\n",
              "    <tr>\n",
              "      <th>1334</th>\n",
              "      <td>18</td>\n",
              "      <td>female</td>\n",
              "      <td>31.920</td>\n",
              "      <td>0</td>\n",
              "      <td>no</td>\n",
              "      <td>northeast</td>\n",
              "      <td>2205.98080</td>\n",
              "    </tr>\n",
              "    <tr>\n",
              "      <th>1335</th>\n",
              "      <td>18</td>\n",
              "      <td>female</td>\n",
              "      <td>36.850</td>\n",
              "      <td>0</td>\n",
              "      <td>no</td>\n",
              "      <td>southeast</td>\n",
              "      <td>1629.83350</td>\n",
              "    </tr>\n",
              "    <tr>\n",
              "      <th>1336</th>\n",
              "      <td>21</td>\n",
              "      <td>female</td>\n",
              "      <td>25.800</td>\n",
              "      <td>0</td>\n",
              "      <td>no</td>\n",
              "      <td>southwest</td>\n",
              "      <td>2007.94500</td>\n",
              "    </tr>\n",
              "    <tr>\n",
              "      <th>1337</th>\n",
              "      <td>61</td>\n",
              "      <td>female</td>\n",
              "      <td>29.070</td>\n",
              "      <td>0</td>\n",
              "      <td>yes</td>\n",
              "      <td>northwest</td>\n",
              "      <td>29141.36030</td>\n",
              "    </tr>\n",
              "  </tbody>\n",
              "</table>\n",
              "<p>1338 rows × 7 columns</p>\n",
              "</div>"
            ],
            "text/plain": [
              "      age     sex     bmi  children smoker     region      charges\n",
              "0      19  female  27.900         0    yes  southwest  16884.92400\n",
              "1      18    male  33.770         1     no  southeast   1725.55230\n",
              "2      28    male  33.000         3     no  southeast   4449.46200\n",
              "3      33    male  22.705         0     no  northwest  21984.47061\n",
              "4      32    male  28.880         0     no  northwest   3866.85520\n",
              "...   ...     ...     ...       ...    ...        ...          ...\n",
              "1333   50    male  30.970         3     no  northwest  10600.54830\n",
              "1334   18  female  31.920         0     no  northeast   2205.98080\n",
              "1335   18  female  36.850         0     no  southeast   1629.83350\n",
              "1336   21  female  25.800         0     no  southwest   2007.94500\n",
              "1337   61  female  29.070         0    yes  northwest  29141.36030\n",
              "\n",
              "[1338 rows x 7 columns]"
            ]
          },
          "metadata": {
            "tags": []
          },
          "execution_count": 124
        }
      ]
    },
    {
      "cell_type": "code",
      "metadata": {
        "id": "rnToWfaXI3hX",
        "colab_type": "code",
        "colab": {
          "base_uri": "https://localhost:8080/",
          "height": 266
        },
        "outputId": "e9b69b80-427a-49e6-cbb1-18c6fac6dd42"
      },
      "source": [
        "df = df_raw.copy()\n",
        "df.info()"
      ],
      "execution_count": 125,
      "outputs": [
        {
          "output_type": "stream",
          "text": [
            "<class 'pandas.core.frame.DataFrame'>\n",
            "RangeIndex: 1338 entries, 0 to 1337\n",
            "Data columns (total 7 columns):\n",
            " #   Column    Non-Null Count  Dtype  \n",
            "---  ------    --------------  -----  \n",
            " 0   age       1338 non-null   int64  \n",
            " 1   sex       1338 non-null   object \n",
            " 2   bmi       1338 non-null   float64\n",
            " 3   children  1338 non-null   int64  \n",
            " 4   smoker    1338 non-null   object \n",
            " 5   region    1338 non-null   object \n",
            " 6   charges   1338 non-null   float64\n",
            "dtypes: float64(2), int64(2), object(3)\n",
            "memory usage: 73.3+ KB\n"
          ],
          "name": "stdout"
        }
      ]
    },
    {
      "cell_type": "code",
      "metadata": {
        "id": "cpJ-ph-rKE7E",
        "colab_type": "code",
        "colab": {
          "base_uri": "https://localhost:8080/",
          "height": 76
        },
        "outputId": "a94f4d3d-595b-4421-9bd3-f8eeffb1eca2"
      },
      "source": [
        "# sprawdzenie czy w danych nie ma duplikatów\n",
        "df[df.duplicated()]"
      ],
      "execution_count": 6,
      "outputs": [
        {
          "output_type": "execute_result",
          "data": {
            "text/html": [
              "<div>\n",
              "<style scoped>\n",
              "    .dataframe tbody tr th:only-of-type {\n",
              "        vertical-align: middle;\n",
              "    }\n",
              "\n",
              "    .dataframe tbody tr th {\n",
              "        vertical-align: top;\n",
              "    }\n",
              "\n",
              "    .dataframe thead th {\n",
              "        text-align: right;\n",
              "    }\n",
              "</style>\n",
              "<table border=\"1\" class=\"dataframe\">\n",
              "  <thead>\n",
              "    <tr style=\"text-align: right;\">\n",
              "      <th></th>\n",
              "      <th>age</th>\n",
              "      <th>sex</th>\n",
              "      <th>bmi</th>\n",
              "      <th>children</th>\n",
              "      <th>smoker</th>\n",
              "      <th>region</th>\n",
              "      <th>charges</th>\n",
              "    </tr>\n",
              "  </thead>\n",
              "  <tbody>\n",
              "    <tr>\n",
              "      <th>581</th>\n",
              "      <td>19</td>\n",
              "      <td>male</td>\n",
              "      <td>30.59</td>\n",
              "      <td>0</td>\n",
              "      <td>no</td>\n",
              "      <td>northwest</td>\n",
              "      <td>1639.5631</td>\n",
              "    </tr>\n",
              "  </tbody>\n",
              "</table>\n",
              "</div>"
            ],
            "text/plain": [
              "     age   sex    bmi  children smoker     region    charges\n",
              "581   19  male  30.59         0     no  northwest  1639.5631"
            ]
          },
          "metadata": {
            "tags": []
          },
          "execution_count": 6
        }
      ]
    },
    {
      "cell_type": "code",
      "metadata": {
        "id": "8ThLw67iMOQ_",
        "colab_type": "code",
        "colab": {
          "base_uri": "https://localhost:8080/",
          "height": 106
        },
        "outputId": "ceb16677-bb4d-4fa9-a43b-14e21c778f53"
      },
      "source": [
        "# sprawdzamy gdzie kolumna charges jest taka sama\n",
        "df[df['charges'] == 1639.5631]  "
      ],
      "execution_count": 126,
      "outputs": [
        {
          "output_type": "execute_result",
          "data": {
            "text/html": [
              "<div>\n",
              "<style scoped>\n",
              "    .dataframe tbody tr th:only-of-type {\n",
              "        vertical-align: middle;\n",
              "    }\n",
              "\n",
              "    .dataframe tbody tr th {\n",
              "        vertical-align: top;\n",
              "    }\n",
              "\n",
              "    .dataframe thead th {\n",
              "        text-align: right;\n",
              "    }\n",
              "</style>\n",
              "<table border=\"1\" class=\"dataframe\">\n",
              "  <thead>\n",
              "    <tr style=\"text-align: right;\">\n",
              "      <th></th>\n",
              "      <th>age</th>\n",
              "      <th>sex</th>\n",
              "      <th>bmi</th>\n",
              "      <th>children</th>\n",
              "      <th>smoker</th>\n",
              "      <th>region</th>\n",
              "      <th>charges</th>\n",
              "    </tr>\n",
              "  </thead>\n",
              "  <tbody>\n",
              "    <tr>\n",
              "      <th>195</th>\n",
              "      <td>19</td>\n",
              "      <td>male</td>\n",
              "      <td>30.59</td>\n",
              "      <td>0</td>\n",
              "      <td>no</td>\n",
              "      <td>northwest</td>\n",
              "      <td>1639.5631</td>\n",
              "    </tr>\n",
              "    <tr>\n",
              "      <th>581</th>\n",
              "      <td>19</td>\n",
              "      <td>male</td>\n",
              "      <td>30.59</td>\n",
              "      <td>0</td>\n",
              "      <td>no</td>\n",
              "      <td>northwest</td>\n",
              "      <td>1639.5631</td>\n",
              "    </tr>\n",
              "  </tbody>\n",
              "</table>\n",
              "</div>"
            ],
            "text/plain": [
              "     age   sex    bmi  children smoker     region    charges\n",
              "195   19  male  30.59         0     no  northwest  1639.5631\n",
              "581   19  male  30.59         0     no  northwest  1639.5631"
            ]
          },
          "metadata": {
            "tags": []
          },
          "execution_count": 126
        }
      ]
    },
    {
      "cell_type": "code",
      "metadata": {
        "id": "Ikgpyt9FMbjN",
        "colab_type": "code",
        "colab": {
          "base_uri": "https://localhost:8080/",
          "height": 266
        },
        "outputId": "d2adb05b-e9ba-4044-cb10-3507a53e1b5a"
      },
      "source": [
        "# usuniecie duplikatow\n",
        "df = df.drop_duplicates()\n",
        "df.info()"
      ],
      "execution_count": 127,
      "outputs": [
        {
          "output_type": "stream",
          "text": [
            "<class 'pandas.core.frame.DataFrame'>\n",
            "Int64Index: 1337 entries, 0 to 1337\n",
            "Data columns (total 7 columns):\n",
            " #   Column    Non-Null Count  Dtype  \n",
            "---  ------    --------------  -----  \n",
            " 0   age       1337 non-null   int64  \n",
            " 1   sex       1337 non-null   object \n",
            " 2   bmi       1337 non-null   float64\n",
            " 3   children  1337 non-null   int64  \n",
            " 4   smoker    1337 non-null   object \n",
            " 5   region    1337 non-null   object \n",
            " 6   charges   1337 non-null   float64\n",
            "dtypes: float64(2), int64(2), object(3)\n",
            "memory usage: 83.6+ KB\n"
          ],
          "name": "stdout"
        }
      ]
    },
    {
      "cell_type": "code",
      "metadata": {
        "id": "ZuiRJr1KOVqB",
        "colab_type": "code",
        "colab": {
          "base_uri": "https://localhost:8080/",
          "height": 35
        },
        "outputId": "b4f78ac4-a2bd-4095-db33-6bee03f22fc1"
      },
      "source": [
        "# zmiana typu danych z object\n",
        "cat_col = [c for c in df.columns if df[c].dtype == 'O']\n",
        "cat_col"
      ],
      "execution_count": 128,
      "outputs": [
        {
          "output_type": "execute_result",
          "data": {
            "text/plain": [
              "['sex', 'smoker', 'region']"
            ]
          },
          "metadata": {
            "tags": []
          },
          "execution_count": 128
        }
      ]
    },
    {
      "cell_type": "code",
      "metadata": {
        "id": "eg8VTiD8Oy5h",
        "colab_type": "code",
        "colab": {
          "base_uri": "https://localhost:8080/",
          "height": 266
        },
        "outputId": "cbb8797b-77b2-40cb-8f24-5d3958c3361e"
      },
      "source": [
        "\n",
        "for c in cat_col:\n",
        "  df[c] =df[c].astype('category')\n",
        "df.info()"
      ],
      "execution_count": 129,
      "outputs": [
        {
          "output_type": "stream",
          "text": [
            "<class 'pandas.core.frame.DataFrame'>\n",
            "Int64Index: 1337 entries, 0 to 1337\n",
            "Data columns (total 7 columns):\n",
            " #   Column    Non-Null Count  Dtype   \n",
            "---  ------    --------------  -----   \n",
            " 0   age       1337 non-null   int64   \n",
            " 1   sex       1337 non-null   category\n",
            " 2   bmi       1337 non-null   float64 \n",
            " 3   children  1337 non-null   int64   \n",
            " 4   smoker    1337 non-null   category\n",
            " 5   region    1337 non-null   category\n",
            " 6   charges   1337 non-null   float64 \n",
            "dtypes: category(3), float64(2), int64(2)\n",
            "memory usage: 56.5 KB\n"
          ],
          "name": "stdout"
        }
      ]
    },
    {
      "cell_type": "code",
      "metadata": {
        "id": "_GHUKtAfRGco",
        "colab_type": "code",
        "colab": {
          "base_uri": "https://localhost:8080/",
          "height": 135
        },
        "outputId": "198b0053-2941-446b-f9bd-fc1868b3aefa"
      },
      "source": [
        "  df.describe(include=['category']).T"
      ],
      "execution_count": 130,
      "outputs": [
        {
          "output_type": "execute_result",
          "data": {
            "text/html": [
              "<div>\n",
              "<style scoped>\n",
              "    .dataframe tbody tr th:only-of-type {\n",
              "        vertical-align: middle;\n",
              "    }\n",
              "\n",
              "    .dataframe tbody tr th {\n",
              "        vertical-align: top;\n",
              "    }\n",
              "\n",
              "    .dataframe thead th {\n",
              "        text-align: right;\n",
              "    }\n",
              "</style>\n",
              "<table border=\"1\" class=\"dataframe\">\n",
              "  <thead>\n",
              "    <tr style=\"text-align: right;\">\n",
              "      <th></th>\n",
              "      <th>count</th>\n",
              "      <th>unique</th>\n",
              "      <th>top</th>\n",
              "      <th>freq</th>\n",
              "    </tr>\n",
              "  </thead>\n",
              "  <tbody>\n",
              "    <tr>\n",
              "      <th>sex</th>\n",
              "      <td>1337</td>\n",
              "      <td>2</td>\n",
              "      <td>male</td>\n",
              "      <td>675</td>\n",
              "    </tr>\n",
              "    <tr>\n",
              "      <th>smoker</th>\n",
              "      <td>1337</td>\n",
              "      <td>2</td>\n",
              "      <td>no</td>\n",
              "      <td>1063</td>\n",
              "    </tr>\n",
              "    <tr>\n",
              "      <th>region</th>\n",
              "      <td>1337</td>\n",
              "      <td>4</td>\n",
              "      <td>southeast</td>\n",
              "      <td>364</td>\n",
              "    </tr>\n",
              "  </tbody>\n",
              "</table>\n",
              "</div>"
            ],
            "text/plain": [
              "       count unique        top  freq\n",
              "sex     1337      2       male   675\n",
              "smoker  1337      2         no  1063\n",
              "region  1337      4  southeast   364"
            ]
          },
          "metadata": {
            "tags": []
          },
          "execution_count": 130
        }
      ]
    },
    {
      "cell_type": "code",
      "metadata": {
        "id": "VeJkX2EjTxkH",
        "colab_type": "code",
        "colab": {
          "base_uri": "https://localhost:8080/",
          "height": 159
        },
        "outputId": "2383f017-abf8-40ea-b17e-178ee935ddf5"
      },
      "source": [
        "# sprawdzenie czy nie ma brakó danych\n",
        "df.isnull().sum()"
      ],
      "execution_count": 131,
      "outputs": [
        {
          "output_type": "execute_result",
          "data": {
            "text/plain": [
              "age         0\n",
              "sex         0\n",
              "bmi         0\n",
              "children    0\n",
              "smoker      0\n",
              "region      0\n",
              "charges     0\n",
              "dtype: int64"
            ]
          },
          "metadata": {
            "tags": []
          },
          "execution_count": 131
        }
      ]
    },
    {
      "cell_type": "code",
      "metadata": {
        "id": "jnLIms_aUWHs",
        "colab_type": "code",
        "colab": {
          "base_uri": "https://localhost:8080/",
          "height": 70
        },
        "outputId": "1c487a16-0b9c-4884-f2c2-f3cd1d1f96b6"
      },
      "source": [
        "# sprawdzenie rozkładu dla płci dzięki value counts\n",
        "df['sex'].value_counts()"
      ],
      "execution_count": 132,
      "outputs": [
        {
          "output_type": "execute_result",
          "data": {
            "text/plain": [
              "male      675\n",
              "female    662\n",
              "Name: sex, dtype: int64"
            ]
          },
          "metadata": {
            "tags": []
          },
          "execution_count": 132
        }
      ]
    },
    {
      "cell_type": "code",
      "metadata": {
        "id": "-o9RCBfnUjkg",
        "colab_type": "code",
        "colab": {
          "base_uri": "https://localhost:8080/",
          "height": 266
        },
        "outputId": "316ac703-416c-4819-c36c-5bc0151b61a5"
      },
      "source": [
        "df['sex'].value_counts().plot(kind = 'pie')"
      ],
      "execution_count": 133,
      "outputs": [
        {
          "output_type": "execute_result",
          "data": {
            "text/plain": [
              "<matplotlib.axes._subplots.AxesSubplot at 0x7fc9b9373e80>"
            ]
          },
          "metadata": {
            "tags": []
          },
          "execution_count": 133
        },
        {
          "output_type": "display_data",
          "data": {
            "image/png": "[encoded data removed]",
            "text/plain": [
              "<Figure size 432x288 with 1 Axes>"
            ]
          },
          "metadata": {
            "tags": []
          }
        }
      ]
    },
    {
      "cell_type": "code",
      "metadata": {
        "id": "NqlugbVjUzOJ",
        "colab_type": "code",
        "colab": {
          "base_uri": "https://localhost:8080/",
          "height": 266
        },
        "outputId": "41c8630e-e0c9-43ea-a3b4-697c71bc22c5"
      },
      "source": [
        "df['smoker'].value_counts().plot(kind = 'pie')"
      ],
      "execution_count": 134,
      "outputs": [
        {
          "output_type": "execute_result",
          "data": {
            "text/plain": [
              "<matplotlib.axes._subplots.AxesSubplot at 0x7fc9a3a379e8>"
            ]
          },
          "metadata": {
            "tags": []
          },
          "execution_count": 134
        },
        {
          "output_type": "display_data",
          "data": {
            "image/png": "[encoded data removed]",
            "text/plain": [
              "<Figure size 432x288 with 1 Axes>"
            ]
          },
          "metadata": {
            "tags": []
          }
        }
      ]
    },
    {
      "cell_type": "code",
      "metadata": {
        "id": "hBx4R9R6U9gV",
        "colab_type": "code",
        "colab": {
          "base_uri": "https://localhost:8080/",
          "height": 266
        },
        "outputId": "6d6de25c-13c9-4edb-c798-b6c70075b3db"
      },
      "source": [
        "df['region'].value_counts().plot(kind = 'pie')"
      ],
      "execution_count": 135,
      "outputs": [
        {
          "output_type": "execute_result",
          "data": {
            "text/plain": [
              "<matplotlib.axes._subplots.AxesSubplot at 0x7fc9a3a647b8>"
            ]
          },
          "metadata": {
            "tags": []
          },
          "execution_count": 135
        },
        {
          "output_type": "display_data",
          "data": {
            "image/png": "[encoded data removed]",
            "text/plain": [
              "<Figure size 432x288 with 1 Axes>"
            ]
          },
          "metadata": {
            "tags": []
          }
        }
      ]
    },
    {
      "cell_type": "code",
      "metadata": {
        "id": "4ulgdnYMVCFt",
        "colab_type": "code",
        "colab": {
          "base_uri": "https://localhost:8080/",
          "height": 290
        },
        "outputId": "c177563c-2809-4fdf-ad84-435a60a6c8e1"
      },
      "source": [
        "df['charges'].plot(kind = 'hist', bins = 60)"
      ],
      "execution_count": 136,
      "outputs": [
        {
          "output_type": "execute_result",
          "data": {
            "text/plain": [
              "<matplotlib.axes._subplots.AxesSubplot at 0x7fc9a3a0f828>"
            ]
          },
          "metadata": {
            "tags": []
          },
          "execution_count": 136
        },
        {
          "output_type": "display_data",
          "data": {
            "image/png": "[encoded data removed]",
            "text/plain": [
              "<Figure size 432x288 with 1 Axes>"
            ]
          },
          "metadata": {
            "tags": []
          }
        }
      ]
    },
    {
      "cell_type": "code",
      "metadata": {
        "id": "WMaR8yU9VUUZ",
        "colab_type": "code",
        "colab": {
          "base_uri": "https://localhost:8080/",
          "height": 542
        },
        "outputId": "18ea5414-9c29-4e72-88ef-57cd28da16b5"
      },
      "source": [
        "import plotly.express as px\n",
        "\n",
        "px.histogram(data_frame = df, x = 'charges', nbins = 50, facet_col = 'smoker', facet_row = 'sex')"
      ],
      "execution_count": 137,
      "outputs": [
        {
          "output_type": "display_data",
          "data": {
            "text/html": [
              "<html>\n",
              "<head><meta charset=\"utf-8\" /></head>\n",
              "<body>\n",
              "    <div>\n",
              "            <script src=\"https://cdnjs.cloudflare.com/ajax/libs/mathjax/2.7.5/MathJax.js?config=TeX-AMS-MML_SVG\"></script><script type=\"text/javascript\">if (window.MathJax) {MathJax.Hub.Config({SVG: {font: \"STIX-Web\"}});}</script>\n",
              "                <script type=\"text/javascript\">window.PlotlyConfig = {MathJaxConfig: 'local'};</script>\n",
              "        <script src=\"https://cdn.plot.ly/plotly-latest.min.js\"></script>    \n",
              "            <div id=\"470cec82-c2ce-420c-bf78-889b1bb9f9a7\" class=\"plotly-graph-div\" style=\"height:525px; width:100%;\"></div>\n",
              "            <script type=\"text/javascript\">\n",
              "                \n",
              "                    window.PLOTLYENV=window.PLOTLYENV || {};\n",
              "                    \n",
              "                if (document.getElementById(\"470cec82-c2ce-420c-bf78-889b1bb9f9a7\")) {\n",
              "                    Plotly.newPlot(\n",
              "                        '470cec82-c2ce-420c-bf78-889b1bb9f9a7',\n",
              "                        [{\"alignmentgroup\": \"True\", \"bingroup\": \"x\", \"hoverlabel\": {\"namelength\": 0}, \"hovertemplate\": \"sex=female<br>smoker=yes<br>charges=%{x}<br>count=%{y}\", \"legendgroup\": \"\", \"marker\": {\"color\": \"#636efa\"}, \"name\": \"\", \"nbinsx\": 50, \"offsetgroup\": \"\", \"orientation\": \"v\", \"showlegend\": false, \"type\": \"histogram\", \"x\": [16884.924, 27808.7251, 37701.8768, 23244.7902, 14711.7438, 16577.7795, 39836.519, 43578.9394, 47291.055, 30942.1918, 19107.7796, 17081.08, 32734.1863, 19964.7463, 21348.706000000002, 36149.4835, 48824.45, 37133.8982, 19444.2658, 38511.6283, 29523.1656, 47305.305, 17085.2676, 22331.5668, 47896.79135, 24873.3849, 34838.873, 47928.03, 48517.56315, 13844.506000000001, 18033.9679, 21659.9301, 15006.57945, 19594.80965, 14455.64405, 18608.262, 28950.4692, 37079.372, 19521.9682, 48885.135610000005, 63770.42801, 45863.205, 39983.42595, 58571.074479999996, 43943.8761, 15359.1045, 17468.9839, 25678.77845, 42969.8527, 34439.8559, 42983.4585, 24667.418999999998, 27037.9141, 40003.33225, 46200.9851, 44400.4064, 40932.4295, 16657.71745, 40419.0191, 19539.243000000002, 23065.4207, 17748.5062, 24520.264, 38792.6856, 23401.30575, 55135.402089999996, 36021.0112, 27533.9129, 45008.9555, 37270.1512, 42111.6647, 24106.91255, 40974.1649, 46113.511, 46255.1125, 29330.98315, 19798.05455, 17496.306, 21774.32215, 14571.8908, 16420.49455, 35595.5898, 21677.28345, 44423.803, 39725.51805, 20234.85475, 21880.82, 19023.26, 33907.547999999995, 44641.1974, 16776.30405, 24180.9335, 34166.273, 46661.4424, 40904.1995, 36898.73308, 40941.2854, 22478.6, 23887.6627, 18328.2381, 21771.3423, 33307.5508, 18223.4512, 20296.86345, 41661.602, 26125.674769999998, 20167.336030000002, 24535.69855, 14283.4594, 16115.3045, 33900.653, 36397.576, 18765.87545, 43896.3763, 29141.3603], \"xaxis\": \"x3\", \"yaxis\": \"y3\"}, {\"alignmentgroup\": \"True\", \"bingroup\": \"x\", \"hoverlabel\": {\"namelength\": 0}, \"hovertemplate\": \"sex=female<br>smoker=no<br>charges=%{x}<br>count=%{y}\", \"legendgroup\": \"\", \"marker\": {\"color\": \"#636efa\"}, \"name\": \"\", \"nbinsx\": 50, \"offsetgroup\": \"\", \"orientation\": \"v\", \"showlegend\": false, \"type\": \"histogram\", \"x\": [3756.6216, 8240.5896, 7281.5056, 28923.136919999997, 11090.7178, 10797.3362, 13228.84695, 4149.736, 14001.1338, 14451.83515, 12268.63225, 2198.18985, 4687.7970000000005, 15612.19335, 3046.062, 4949.7587, 6313.759, 3393.35635, 3556.9223, 12629.8967, 2211.13075, 3579.8287, 8059.6791, 13607.36875, 5989.52365, 4133.64165, 1743.214, 14235.072, 5920.1041, 11741.726, 3947.4131, 2755.02095, 6571.02435, 7935.29115, 11033.6617, 11073.176000000001, 8026.6666, 11082.5772, 2026.9741, 10942.13205, 3766.8838, 12105.32, 6186.1269999999995, 21344.8467, 5003.853, 2331.519, 11881.358, 2404.7338, 8601.3293, 6686.4313, 2257.47525, 10115.00885, 3385.39915, 9634.538, 12815.44495, 13616.3586, 11163.568000000001, 2457.21115, 2155.6815, 27322.733860000004, 2166.732, 5138.2567, 9877.6077, 10959.6947, 6334.34355, 7077.1894, 19749.383380000003, 5152.134, 4830.63, 6128.79745, 2719.27975, 5246.047, 2855.43755, 8823.279, 8538.28845, 1631.8212, 7419.4779, 3981.9768, 5325.651, 6775.960999999999, 4922.9159, 4883.866, 12044.341999999999, 5649.715, 8516.829, 9644.2525, 14901.5167, 2130.6759, 8871.1517, 13012.20865, 4337.7352, 13880.948999999999, 5002.7827, 8520.026, 7371.772, 10355.641, 3392.9768, 25081.76784, 5012.471, 10564.8845, 24227.33724, 7358.17565, 7443.64305, 14001.2867, 1727.785, 1615.7667, 5354.07465, 35160.13457, 12648.7034, 13047.33235, 5400.9805, 11837.16, 20462.99766, 14590.63205, 9715.841, 2150.469, 9855.1314, 11879.10405, 9625.92, 9432.9253, 14256.1928, 3172.018, 2156.7518, 9249.4952, 12265.5069, 4349.462, 12646.207, 20177.671130000002, 4151.0287, 7749.1564, 1737.376, 7421.19455, 24671.66334, 3561.8889, 13429.0354, 11658.37915, 19144.57652, 8232.6388, 18955.22017, 13217.0945, 10977.2063, 6184.2994, 5478.0368, 11830.6072, 8932.084, 3554.203, 14133.03775, 1607.5101, 10043.249, 2597.779, 3180.5101, 9778.3472, 13430.265, 8017.06115, 13415.0381, 12029.2867, 7639.41745, 16455.70785, 5846.9176, 11856.4115, 3176.8159, 4618.0799, 2138.0707, 9411.005, 8522.003, 1631.6683, 9264.796999999999, 14692.66935, 11396.9002, 4185.0979, 8539.671, 2134.9015, 7345.7266, 6555.07035, 7323.734818999999, 3167.45585, 18804.7524, 4906.40965, 12638.195, 12592.5345, 4738.2682, 28287.897660000002, 7345.084, 11454.0215, 5910.944, 11881.9696, 11840.77505, 7682.67, 10381.4787, 15230.32405, 13224.693000000001, 12643.3778, 23288.9284, 2201.0971, 2203.47185, 1744.465, 20878.78443, 1622.1885, 9880.068000000001, 4347.02335, 12475.3513, 1748.774, 24513.09126, 2196.4732, 4931.647, 8211.1002, 13470.86, 5974.3847, 3044.2133, 11455.28, 5240.765, 25656.575259999998, 3994.1778, 9866.30485, 5397.6167, 11482.63485, 24059.68019, 9861.025, 14043.4767, 5972.378000000001, 8825.086, 8233.0975, 6196.448, 3056.3881, 13887.204, 11538.421, 3213.62205, 3972.9247, 11187.6567, 17878.900680000002, 9193.8385, 10923.9332, 2801.2588, 2128.43105, 6373.55735, 11552.903999999999, 3761.292, 2219.4451, 4753.6368, 31620.001060000002, 13224.05705, 12222.8983, 3206.49135, 17626.23951, 4779.6023, 13635.6379, 5976.8311, 11842.442, 8823.98575, 7640.3092, 5594.8455, 33471.97189, 1633.0444, 11070.535, 16085.1275, 9283.562, 3558.62025, 8547.6913, 6571.544, 2207.69745, 6753.0380000000005, 1880.07, 11658.11505, 10713.643999999998, 9182.17, 3736.4647, 3366.6697, 2709.1119, 24915.04626, 4466.6214, 8252.2843, 12430.95335, 9800.8882, 10579.711000000001, 8280.6227, 8527.532, 12244.531, 3410.324, 26392.260290000002, 14394.39815, 22192.43711, 5148.5526, 6500.2359, 3943.5954, 6185.3208, 12485.8009, 10156.7832, 2585.269, 4766.022, 26236.57997, 3577.9990000000003, 3201.24515, 29186.48236, 3500.6123, 2020.5523, 9541.69555, 5385.3379, 8930.93455, 5375.0380000000005, 6113.23105, 5469.0066, 10107.2206, 8310.83915, 2457.502, 9566.9909, 10848.1343, 12231.6136, 9875.6804, 10106.13425, 2217.6012, 6781.3542, 4234.927, 9447.25035, 14007.222, 9583.8933, 3757.8448, 9910.35985, 8556.907, 11833.7823, 7985.815, 3925.7582, 9095.06825, 11842.62375, 7050.642, 14319.031, 6933.24225, 11150.78, 12797.20962, 4350.5144, 6414.178000000001, 13457.9608, 5662.225, 2731.9122, 7209.4918, 4719.52405, 11848.141000000001, 7046.7222, 14313.8463, 7731.85785, 28476.734989999997, 2136.88225, 9414.92, 6360.9936, 1877.9294, 2842.76075, 1621.8827, 8219.2039, 16069.08475, 5266.3656, 4719.73655, 11657.7189, 6402.29135, 12622.1795, 9872.701, 2974.1259999999997, 11729.6795, 1875.344, 18218.16139, 7151.092, 12269.68865, 5458.04645, 4391.652, 3392.3652, 2690.1138, 26140.3603, 6311.951999999999, 2585.85065, 5272.1758, 7243.8136, 13063.883, 1634.5734, 2117.33885, 12644.589, 4564.19145, 7633.7206, 14382.70905, 7626.993, 2473.3341, 13041.921, 5245.2269, 13451.122, 13462.52, 2913.5690000000004, 12032.326000000001, 13470.8044, 6238.298000000001, 7348.142, 12233.828000000001, 8965.79575, 9549.5651, 2217.46915, 11674.13, 4527.18295, 2730.10785, 3353.284, 14474.675, 8596.8278, 10702.6424, 4992.3764, 2527.81865, 1759.338, 9704.66805, 4889.0368, 16796.41194, 7624.63, 28340.18885, 3378.91, 7144.86265, 10118.424, 7986.47525, 7418.522, 13887.9685, 6551.7501, 5267.81815, 8269.044, 36580.28216, 5383.536, 2709.24395, 3987.926, 12495.29085, 26018.95052, 8569.8618, 2020.1770000000001, 6877.9801, 4137.5227, 12094.478000000001, 3161.454, 7325.0482, 3594.17085, 8023.13545, 3353.4703, 8277.523000000001, 17929.303369999998, 2480.9791, 5708.866999999999, 7045.499, 10928.848999999998, 12096.6512, 13204.28565, 4562.8421, 8551.347, 15019.76005, 11286.5387, 11299.343, 4561.1885, 23045.56616, 3227.1211, 10338.9316, 8988.15875, 10493.9458, 11512.405, 5312.16985, 5693.4305, 18903.49141, 14254.6082, 5836.5204, 1728.8970000000002, 8582.3023, 9991.03765, 11085.5868, 7623.518, 3176.2877, 7954.517, 27117.99378, 2261.5688, 2203.73595, 12235.8392, 5630.45785, 11015.1747, 7228.21565, 14426.07385, 2459.7201, 3989.841, 7727.2532, 2200.83085, 7153.5539, 5227.98875, 4529.477, 6112.35295, 11093.6229, 2154.361, 6496.8859999999995, 2899.48935, 7650.77375, 2850.68375, 2632.992, 9447.3824, 13844.7972, 13126.67745, 5327.40025, 13725.47184, 13019.16105, 8671.19125, 4134.08245, 18838.70366, 4934.705, 36910.60803, 10806.839, 3956.07145, 7537.1639, 4718.20355, 4795.6568, 12479.70895, 8515.7587, 14449.8544, 12224.35085, 3238.4357, 4296.2712, 3171.6149, 9101.798, 1633.9618, 15828.821730000001, 4415.1588, 6474.013000000001, 11436.73815, 11305.93455, 10197.7722, 4544.2348, 6770.1925, 7337.7480000000005, 10370.91255, 10704.47, 1880.487, 3021.80915, 2741.948, 4357.04365, 4189.1131, 8283.6807, 8534.6718, 3732.6251, 5472.4490000000005, 7133.9025, 4340.4409, 2710.82855, 3208.7870000000003, 2464.6188, 4571.41305, 1731.6770000000001, 7201.70085, 7050.0213, 22395.74424, 12629.1656, 10795.937329999999, 11411.685, 2205.9808, 1629.8335, 2007.945], \"xaxis\": \"x4\", \"yaxis\": \"y4\"}, {\"alignmentgroup\": \"True\", \"bingroup\": \"x\", \"hoverlabel\": {\"namelength\": 0}, \"hovertemplate\": \"sex=male<br>smoker=yes<br>charges=%{x}<br>count=%{y}\", \"legendgroup\": \"\", \"marker\": {\"color\": \"#636efa\"}, \"name\": \"\", \"nbinsx\": 50, \"offsetgroup\": \"\", \"orientation\": \"v\", \"showlegend\": false, \"type\": \"histogram\", \"x\": [39611.7577, 36837.467000000004, 38711.0, 35585.576, 51194.55914, 39774.2763, 48173.361, 38709.176, 23568.272, 37742.5757, 47496.49445, 34303.1672, 17663.1442, 37165.1638, 21098.55405, 30184.9367, 22412.6485, 15820.698999999999, 17560.37975, 47055.5321, 39556.4945, 18972.495, 20745.9891, 40720.55105, 21223.6758, 15518.18025, 36950.2567, 43753.33705, 20984.0936, 34779.615, 19515.5416, 17352.6803, 12829.4551, 44260.7499, 41097.16175, 43921.1837, 33750.2918, 24869.8368, 36219.40545, 46151.1245, 17179.522, 42856.837999999996, 48549.17835, 42112.2356, 16297.846000000001, 21978.6769, 38746.3551, 42124.5153, 35491.64, 42760.5022, 24393.6224, 41919.097, 36085.219, 38126.2465, 42303.69215, 46889.2612, 46599.1084, 39125.33225, 26109.32905, 22144.032000000003, 25382.297000000002, 28868.6639, 35147.52848, 17942.106, 36197.699, 22218.1149, 32548.3405, 21082.16, 38245.59327, 48675.5177, 23807.2406, 45702.02235, 39241.442, 23306.547000000002, 40182.246, 34617.84065, 20149.3229, 32787.458589999995, 42560.4304, 45710.20785, 46130.5265, 40103.89, 34806.4677, 40273.6455, 19361.9988, 36189.1017, 44585.45587, 18246.4955, 43254.41795, 36307.7983, 19040.876, 18259.216, 21195.818, 18310.742, 17904.52705, 43813.8661, 20773.62775, 39597.4072, 15817.9857, 19719.6947, 27218.43725, 44202.6536, 48673.5588, 33732.6867, 35069.37452, 39047.285, 19933.458, 47462.894, 38998.546, 20009.63365, 41999.52, 41034.2214, 23967.38305, 16138.76205, 19199.944, 17361.7661, 34472.841, 24915.22085, 18767.7377, 42211.1382, 16450.8947, 13747.87235, 37484.4493, 33475.81715, 44501.3982, 39727.614, 25309.488999999998, 48970.2476, 39871.7043, 34672.1472, 41676.0811, 41949.2441, 36124.5737, 38282.7495, 52590.82939, 39722.7462, 17178.6824, 19350.3689, 37465.34375, 38415.474, 60021.39897, 47269.85400000001, 49577.6624, 37607.5277, 18648.4217, 16232.847, 26926.5144, 34254.05335, 17043.3414, 22462.04375, 47403.88, 38344.566, 34828.654, 62592.87309, 46718.16325, 37829.7242, 21259.37795, 21472.4788, 28101.33305], \"xaxis\": \"x\", \"yaxis\": \"y\"}, {\"alignmentgroup\": \"True\", \"bingroup\": \"x\", \"hoverlabel\": {\"namelength\": 0}, \"hovertemplate\": \"sex=male<br>smoker=no<br>charges=%{x}<br>count=%{y}\", \"legendgroup\": \"\", \"marker\": {\"color\": \"#636efa\"}, \"name\": \"\", \"nbinsx\": 50, \"offsetgroup\": \"\", \"orientation\": \"v\", \"showlegend\": false, \"type\": \"histogram\", \"x\": [1725.5523, 4449.462, 21984.47061, 3866.8552, 6406.4107, 2721.3208, 1826.8429999999998, 1837.237, 2395.17155, 10602.385, 1137.011, 6203.90175, 2775.19215, 13770.0979, 1625.43375, 2302.3, 6272.4772, 6079.6715, 20630.28351, 8606.2174, 4504.6624, 30166.618169999998, 6389.37785, 6799.4580000000005, 11946.6259, 7726.854, 11356.6609, 1532.4697, 4441.21315, 5729.0053, 10226.2842, 3645.0894, 3877.30425, 2867.1196, 10825.2537, 4646.759, 11488.31695, 30259.995560000003, 11381.3254, 7740.3369999999995, 1705.6245, 6082.405, 1632.56445, 1261.442, 2045.68525, 27375.90478, 3490.5491, 18157.876, 1842.519, 5125.2157, 7789.635, 6948.7008, 10450.552, 5028.1466, 10407.08585, 4827.90495, 13405.3903, 8116.68, 1694.7964, 6455.86265, 10436.096, 11735.87905, 4005.4225, 7731.4271, 12557.6053, 2137.6536, 1137.4697, 1639.5631, 7147.105, 11743.298999999999, 6610.1097, 1980.07, 8162.71625, 3537.703, 2483.736, 5253.524, 11987.1682, 2689.4954, 9225.2564, 12333.828000000001, 6710.1919, 4463.2051, 7152.6714, 7196.866999999999, 24476.47851, 1986.9334, 1832.094, 4040.55825, 4260.744000000001, 11520.09985, 7441.053000000001, 9282.4806, 1719.4363, 7265.7025, 9617.66245, 2523.1695, 2803.69785, 12928.7911, 4237.12655, 7742.1098, 25992.82104, 20277.80751, 3906.127, 1704.5681, 6746.7425, 19442.3535, 11944.59435, 8444.474, 8124.4084, 9722.7695, 8835.26495, 10435.06525, 4667.60765, 4894.7533, 11566.30055, 2866.091, 6600.20595, 9144.565, 13822.803, 12142.5786, 13937.6665, 13352.0998, 13981.85035, 4889.9995, 8334.45755, 1635.73365, 12404.8791, 24603.04837, 8944.1151, 9620.3307, 1837.2819, 4751.07, 8116.26885, 3481.868, 1391.5287, 27000.98473, 20781.48892, 8302.53565, 1261.859, 30284.642939999998, 10736.87075, 8964.06055, 9290.1395, 7526.70645, 16586.49771, 14988.431999999999, 8083.9198, 10269.46, 3260.199, 6652.5288, 4074.4537, 1621.3402, 5080.096, 9140.951, 14418.2804, 2727.3951, 8968.33, 9788.8659, 23082.95533, 5969.723000000001, 4243.59005, 13919.8229, 2254.7967, 5926.846, 2897.3235, 1149.3959, 12730.9996, 4762.329000000001, 7512.267, 4032.2407, 1969.614, 1769.53165, 4686.3887, 21797.0004, 10601.412, 11165.41765, 1632.03625, 2497.0383, 2534.39375, 1534.3045, 1824.2854, 15555.18875, 9304.7019, 9563.029, 1253.9360000000001, 10461.9794, 12574.048999999999, 1967.0227, 8027.968000000001, 6837.3687, 6796.86325, 2643.2685, 3077.0955, 11763.0009, 2498.4144, 9361.3268, 1256.299, 11362.755, 27724.28875, 8413.46305, 3857.75925, 8342.90875, 1708.0014, 12925.886, 19214.705530000003, 13831.1152, 6067.12675, 27346.04207, 10231.4999, 3268.84665, 13390.559, 12957.118, 3847.6740000000004, 8334.5896, 3935.1799, 1646.4297, 2494.022, 9058.7303, 7256.7231, 1664.9996, 9724.53, 12913.9924, 6356.2707, 1242.816, 3861.20965, 8428.0693, 2566.4707, 5709.1644, 7441.501, 9174.13565, 4435.0942, 3659.3459999999995, 12129.61415, 6748.5912, 11326.71487, 11365.952, 10085.846, 1977.815, 7173.35995, 9391.346, 14410.9321, 12949.1554, 6666.243, 13143.86485, 18806.14547, 10141.1362, 6123.5688, 1712.227, 4058.71245, 6435.6237, 1136.3994, 8703.456, 4837.5823, 4399.731, 7222.78625, 12363.546999999999, 1242.26, 9863.4718, 11244.3769, 7729.64575, 5438.7491, 2104.1134, 8068.185, 2362.22905, 2352.96845, 10976.24575, 9504.3103, 10264.4421, 1727.54, 1984.4533, 12146.971000000001, 13112.6048, 11264.541000000001, 12979.358, 1263.249, 6664.68595, 10065.413, 3484.3309999999997, 8604.48365, 8827.2099, 11737.84884, 1627.28245, 3062.50825, 1906.35825, 14210.53595, 17128.42608, 5031.26955, 5428.7277, 2416.955, 3070.8087, 8062.764, 27941.28758, 7261.741, 10560.4917, 6986.696999999999, 7448.40395, 5934.3798, 9869.8102, 1146.7966, 9386.1613, 12741.16745, 1917.3184, 5209.57885, 1252.407, 4266.1658, 2103.08, 1815.8759, 1131.5066, 3309.7926, 11013.7119, 4428.88785, 5584.3057, 3597.5959999999995, 7445.918000000001, 2680.9493, 12523.6048, 6117.4945, 13393.756000000001, 11743.9341, 5377.4578, 7160.3303, 4402.233, 1526.3120000000001, 12323.936000000002, 10072.05505, 2438.0552, 10601.63225, 14119.62, 10965.446000000002, 8782.469000000001, 6600.361, 1141.4451, 11576.13, 13129.60345, 8457.818000000001, 5966.8874, 6849.026, 8891.1395, 6653.7886, 6282.235, 3443.0640000000003, 2789.0574, 4877.98105, 1682.5970000000002, 11945.1327, 10422.91665, 13555.0049, 2221.56445, 8688.85885, 4661.28635, 8125.7845, 4846.92015, 15170.069, 2639.0429, 5257.50795, 5488.262, 4320.41085, 6250.435, 25333.33284, 6289.7549, 2927.0647, 10096.97, 4673.3922, 32108.662819999998, 2304.0022, 9487.6442, 1121.8739, 1628.4709, 12982.8747, 7160.094, 6358.77645, 11534.87265, 3875.7341, 12609.88702, 28468.91901, 9500.57305, 26467.09737, 4746.344, 7518.02535, 3279.86855, 2322.6218, 7804.1605, 2902.9065, 25517.11363, 4500.33925, 4915.05985, 8410.04685, 4518.82625, 5484.4673, 1972.95, 21232.182259999998, 8627.5411, 4433.3877, 4438.2634, 23241.47453, 9957.7216, 8765.249, 12124.9924, 8798.593, 1711.0268, 21595.38229, 9850.431999999999, 12950.0712, 2250.8352, 22493.65964, 1704.70015, 11394.06555, 14394.5579, 9288.0267, 10594.50155, 4462.7218, 1981.5819, 11554.2236, 6548.19505, 8978.1851, 5757.41345, 14349.8544, 13974.45555, 1909.52745, 2102.2647, 15161.5344, 11884.04858, 4454.40265, 5855.9025, 4076.4970000000003, 10796.35025, 11353.2276, 9748.9106, 10577.087, 3591.48, 1674.6323, 11253.421, 3471.4096, 11363.2832, 20420.60465, 2904.0879999999997, 8605.3615, 2396.0959, 10807.4863, 9222.4026, 8347.1643, 10214.636, 14358.36437, 3693.428, 20709.02034, 19673.335730000003, 3704.3545, 9048.0273, 6338.0756, 9630.396999999999, 11289.10925, 10791.96, 5979.731, 5124.1887, 18963.171919999997, 10982.5013, 4670.64, 6457.8434, 4433.9159, 8603.8234, 5699.8375, 6393.60345, 6198.7518, 8733.22925, 2055.3249, 9964.06, 5116.5004, 12347.171999999999, 5373.36425, 23563.016180000002, 1702.4553, 12890.05765, 5415.6612, 4058.1161, 6593.5083, 8442.667, 6858.4796, 6640.54485, 7162.0122, 10594.2257, 11938.25595, 11345.518999999998, 2699.56835, 6985.50695, 1135.9407, 5615.369000000001, 6059.173000000001, 1241.565, 30063.58055, 3277.1609999999996, 8615.3, 3292.52985, 14478.33015, 4747.0529, 10959.33, 1720.3537, 7147.4728, 1515.3449, 9301.89355, 11931.12525, 1964.78, 1708.92575, 5261.46945, 6875.960999999999, 6940.90985, 4536.259, 11272.331390000001, 1163.4627, 19496.71917, 5425.02335, 12981.3457, 4239.89265, 13143.33665, 9377.9047, 10325.206, 10600.5483], \"xaxis\": \"x2\", \"yaxis\": \"y2\"}],\n",
              "                        {\"annotations\": [{\"font\": {}, \"showarrow\": false, \"text\": \"smoker=yes\", \"x\": 0.24, \"xanchor\": \"center\", \"xref\": \"paper\", \"y\": 1.0, \"yanchor\": \"bottom\", \"yref\": \"paper\"}, {\"font\": {}, \"showarrow\": false, \"text\": \"smoker=no\", \"x\": 0.74, \"xanchor\": \"center\", \"xref\": \"paper\", \"y\": 1.0, \"yanchor\": \"bottom\", \"yref\": \"paper\"}, {\"font\": {}, \"showarrow\": false, \"text\": \"sex=male\", \"textangle\": 90, \"x\": 0.98, \"xanchor\": \"left\", \"xref\": \"paper\", \"y\": 0.2425, \"yanchor\": \"middle\", \"yref\": \"paper\"}, {\"font\": {}, \"showarrow\": false, \"text\": \"sex=female\", \"textangle\": 90, \"x\": 0.98, \"xanchor\": \"left\", \"xref\": \"paper\", \"y\": 0.7575000000000001, \"yanchor\": \"middle\", \"yref\": \"paper\"}], \"barmode\": \"relative\", \"legend\": {\"tracegroupgap\": 0}, \"margin\": {\"t\": 60}, \"template\": {\"data\": {\"bar\": [{\"error_x\": {\"color\": \"#2a3f5f\"}, \"error_y\": {\"color\": \"#2a3f5f\"}, \"marker\": {\"line\": {\"color\": \"#E5ECF6\", \"width\": 0.5}}, \"type\": \"bar\"}], \"barpolar\": [{\"marker\": {\"line\": {\"color\": \"#E5ECF6\", \"width\": 0.5}}, \"type\": \"barpolar\"}], \"carpet\": [{\"aaxis\": {\"endlinecolor\": \"#2a3f5f\", \"gridcolor\": \"white\", \"linecolor\": \"white\", \"minorgridcolor\": \"white\", \"startlinecolor\": \"#2a3f5f\"}, \"baxis\": {\"endlinecolor\": \"#2a3f5f\", \"gridcolor\": \"white\", \"linecolor\": \"white\", \"minorgridcolor\": \"white\", \"startlinecolor\": \"#2a3f5f\"}, \"type\": \"carpet\"}], \"choropleth\": [{\"colorbar\": {\"outlinewidth\": 0, \"ticks\": \"\"}, \"type\": \"choropleth\"}], \"contour\": [{\"colorbar\": {\"outlinewidth\": 0, \"ticks\": \"\"}, \"colorscale\": [[0.0, \"#0d0887\"], [0.1111111111111111, \"#46039f\"], [0.2222222222222222, \"#7201a8\"], [0.3333333333333333, \"#9c179e\"], [0.4444444444444444, \"#bd3786\"], [0.5555555555555556, \"#d8576b\"], [0.6666666666666666, \"#ed7953\"], [0.7777777777777778, \"#fb9f3a\"], [0.8888888888888888, \"#fdca26\"], [1.0, \"#f0f921\"]], \"type\": \"contour\"}], \"contourcarpet\": [{\"colorbar\": {\"outlinewidth\": 0, \"ticks\": \"\"}, \"type\": \"contourcarpet\"}], \"heatmap\": [{\"colorbar\": {\"outlinewidth\": 0, \"ticks\": \"\"}, \"colorscale\": [[0.0, \"#0d0887\"], [0.1111111111111111, \"#46039f\"], [0.2222222222222222, \"#7201a8\"], [0.3333333333333333, \"#9c179e\"], [0.4444444444444444, \"#bd3786\"], [0.5555555555555556, \"#d8576b\"], [0.6666666666666666, \"#ed7953\"], [0.7777777777777778, \"#fb9f3a\"], [0.8888888888888888, \"#fdca26\"], [1.0, \"#f0f921\"]], \"type\": \"heatmap\"}], \"heatmapgl\": [{\"colorbar\": {\"outlinewidth\": 0, \"ticks\": \"\"}, \"colorscale\": [[0.0, \"#0d0887\"], [0.1111111111111111, \"#46039f\"], [0.2222222222222222, \"#7201a8\"], [0.3333333333333333, \"#9c179e\"], [0.4444444444444444, \"#bd3786\"], [0.5555555555555556, \"#d8576b\"], [0.6666666666666666, \"#ed7953\"], [0.7777777777777778, \"#fb9f3a\"], [0.8888888888888888, \"#fdca26\"], [1.0, \"#f0f921\"]], \"type\": \"heatmapgl\"}], \"histogram\": [{\"marker\": {\"colorbar\": {\"outlinewidth\": 0, \"ticks\": \"\"}}, \"type\": \"histogram\"}], \"histogram2d\": [{\"colorbar\": {\"outlinewidth\": 0, \"ticks\": \"\"}, \"colorscale\": [[0.0, \"#0d0887\"], [0.1111111111111111, \"#46039f\"], [0.2222222222222222, \"#7201a8\"], [0.3333333333333333, \"#9c179e\"], [0.4444444444444444, \"#bd3786\"], [0.5555555555555556, \"#d8576b\"], [0.6666666666666666, \"#ed7953\"], [0.7777777777777778, \"#fb9f3a\"], [0.8888888888888888, \"#fdca26\"], [1.0, \"#f0f921\"]], \"type\": \"histogram2d\"}], \"histogram2dcontour\": [{\"colorbar\": {\"outlinewidth\": 0, \"ticks\": \"\"}, \"colorscale\": [[0.0, \"#0d0887\"], [0.1111111111111111, \"#46039f\"], [0.2222222222222222, \"#7201a8\"], [0.3333333333333333, \"#9c179e\"], [0.4444444444444444, \"#bd3786\"], [0.5555555555555556, \"#d8576b\"], [0.6666666666666666, \"#ed7953\"], [0.7777777777777778, \"#fb9f3a\"], [0.8888888888888888, \"#fdca26\"], [1.0, \"#f0f921\"]], \"type\": \"histogram2dcontour\"}], \"mesh3d\": [{\"colorbar\": {\"outlinewidth\": 0, \"ticks\": \"\"}, \"type\": \"mesh3d\"}], \"parcoords\": [{\"line\": {\"colorbar\": {\"outlinewidth\": 0, \"ticks\": \"\"}}, \"type\": \"parcoords\"}], \"pie\": [{\"automargin\": true, \"type\": \"pie\"}], \"scatter\": [{\"marker\": {\"colorbar\": {\"outlinewidth\": 0, \"ticks\": \"\"}}, \"type\": \"scatter\"}], \"scatter3d\": [{\"line\": {\"colorbar\": {\"outlinewidth\": 0, \"ticks\": \"\"}}, \"marker\": {\"colorbar\": {\"outlinewidth\": 0, \"ticks\": \"\"}}, \"type\": \"scatter3d\"}], \"scattercarpet\": [{\"marker\": {\"colorbar\": {\"outlinewidth\": 0, \"ticks\": \"\"}}, \"type\": \"scattercarpet\"}], \"scattergeo\": [{\"marker\": {\"colorbar\": {\"outlinewidth\": 0, \"ticks\": \"\"}}, \"type\": \"scattergeo\"}], \"scattergl\": [{\"marker\": {\"colorbar\": {\"outlinewidth\": 0, \"ticks\": \"\"}}, \"type\": \"scattergl\"}], \"scattermapbox\": [{\"marker\": {\"colorbar\": {\"outlinewidth\": 0, \"ticks\": \"\"}}, \"type\": \"scattermapbox\"}], \"scatterpolar\": [{\"marker\": {\"colorbar\": {\"outlinewidth\": 0, \"ticks\": \"\"}}, \"type\": \"scatterpolar\"}], \"scatterpolargl\": [{\"marker\": {\"colorbar\": {\"outlinewidth\": 0, \"ticks\": \"\"}}, \"type\": \"scatterpolargl\"}], \"scatterternary\": [{\"marker\": {\"colorbar\": {\"outlinewidth\": 0, \"ticks\": \"\"}}, \"type\": \"scatterternary\"}], \"surface\": [{\"colorbar\": {\"outlinewidth\": 0, \"ticks\": \"\"}, \"colorscale\": [[0.0, \"#0d0887\"], [0.1111111111111111, \"#46039f\"], [0.2222222222222222, \"#7201a8\"], [0.3333333333333333, \"#9c179e\"], [0.4444444444444444, \"#bd3786\"], [0.5555555555555556, \"#d8576b\"], [0.6666666666666666, \"#ed7953\"], [0.7777777777777778, \"#fb9f3a\"], [0.8888888888888888, \"#fdca26\"], [1.0, \"#f0f921\"]], \"type\": \"surface\"}], \"table\": [{\"cells\": {\"fill\": {\"color\": \"#EBF0F8\"}, \"line\": {\"color\": \"white\"}}, \"header\": {\"fill\": {\"color\": \"#C8D4E3\"}, \"line\": {\"color\": \"white\"}}, \"type\": \"table\"}]}, \"layout\": {\"annotationdefaults\": {\"arrowcolor\": \"#2a3f5f\", \"arrowhead\": 0, \"arrowwidth\": 1}, \"coloraxis\": {\"colorbar\": {\"outlinewidth\": 0, \"ticks\": \"\"}}, \"colorscale\": {\"diverging\": [[0, \"#8e0152\"], [0.1, \"#c51b7d\"], [0.2, \"#de77ae\"], [0.3, \"#f1b6da\"], [0.4, \"#fde0ef\"], [0.5, \"#f7f7f7\"], [0.6, \"#e6f5d0\"], [0.7, \"#b8e186\"], [0.8, \"#7fbc41\"], [0.9, \"#4d9221\"], [1, \"#276419\"]], \"sequential\": [[0.0, \"#0d0887\"], [0.1111111111111111, \"#46039f\"], [0.2222222222222222, \"#7201a8\"], [0.3333333333333333, \"#9c179e\"], [0.4444444444444444, \"#bd3786\"], [0.5555555555555556, \"#d8576b\"], [0.6666666666666666, \"#ed7953\"], [0.7777777777777778, \"#fb9f3a\"], [0.8888888888888888, \"#fdca26\"], [1.0, \"#f0f921\"]], \"sequentialminus\": [[0.0, \"#0d0887\"], [0.1111111111111111, \"#46039f\"], [0.2222222222222222, \"#7201a8\"], [0.3333333333333333, \"#9c179e\"], [0.4444444444444444, \"#bd3786\"], [0.5555555555555556, \"#d8576b\"], [0.6666666666666666, \"#ed7953\"], [0.7777777777777778, \"#fb9f3a\"], [0.8888888888888888, \"#fdca26\"], [1.0, \"#f0f921\"]]}, \"colorway\": [\"#636efa\", \"#EF553B\", \"#00cc96\", \"#ab63fa\", \"#FFA15A\", \"#19d3f3\", \"#FF6692\", \"#B6E880\", \"#FF97FF\", \"#FECB52\"], \"font\": {\"color\": \"#2a3f5f\"}, \"geo\": {\"bgcolor\": \"white\", \"lakecolor\": \"white\", \"landcolor\": \"#E5ECF6\", \"showlakes\": true, \"showland\": true, \"subunitcolor\": \"white\"}, \"hoverlabel\": {\"align\": \"left\"}, \"hovermode\": \"closest\", \"mapbox\": {\"style\": \"light\"}, \"paper_bgcolor\": \"white\", \"plot_bgcolor\": \"#E5ECF6\", \"polar\": {\"angularaxis\": {\"gridcolor\": \"white\", \"linecolor\": \"white\", \"ticks\": \"\"}, \"bgcolor\": \"#E5ECF6\", \"radialaxis\": {\"gridcolor\": \"white\", \"linecolor\": \"white\", \"ticks\": \"\"}}, \"scene\": {\"xaxis\": {\"backgroundcolor\": \"#E5ECF6\", \"gridcolor\": \"white\", \"gridwidth\": 2, \"linecolor\": \"white\", \"showbackground\": true, \"ticks\": \"\", \"zerolinecolor\": \"white\"}, \"yaxis\": {\"backgroundcolor\": \"#E5ECF6\", \"gridcolor\": \"white\", \"gridwidth\": 2, \"linecolor\": \"white\", \"showbackground\": true, \"ticks\": \"\", \"zerolinecolor\": \"white\"}, \"zaxis\": {\"backgroundcolor\": \"#E5ECF6\", \"gridcolor\": \"white\", \"gridwidth\": 2, \"linecolor\": \"white\", \"showbackground\": true, \"ticks\": \"\", \"zerolinecolor\": \"white\"}}, \"shapedefaults\": {\"line\": {\"color\": \"#2a3f5f\"}}, \"ternary\": {\"aaxis\": {\"gridcolor\": \"white\", \"linecolor\": \"white\", \"ticks\": \"\"}, \"baxis\": {\"gridcolor\": \"white\", \"linecolor\": \"white\", \"ticks\": \"\"}, \"bgcolor\": \"#E5ECF6\", \"caxis\": {\"gridcolor\": \"white\", \"linecolor\": \"white\", \"ticks\": \"\"}}, \"title\": {\"x\": 0.05}, \"xaxis\": {\"automargin\": true, \"gridcolor\": \"white\", \"linecolor\": \"white\", \"ticks\": \"\", \"title\": {\"standoff\": 15}, \"zerolinecolor\": \"white\", \"zerolinewidth\": 2}, \"yaxis\": {\"automargin\": true, \"gridcolor\": \"white\", \"linecolor\": \"white\", \"ticks\": \"\", \"title\": {\"standoff\": 15}, \"zerolinecolor\": \"white\", \"zerolinewidth\": 2}}}, \"xaxis\": {\"anchor\": \"y\", \"domain\": [0.0, 0.48], \"title\": {\"text\": \"charges\"}}, \"xaxis2\": {\"anchor\": \"y2\", \"domain\": [0.5, 0.98], \"matches\": \"x\", \"title\": {\"text\": \"charges\"}}, \"xaxis3\": {\"anchor\": \"y3\", \"domain\": [0.0, 0.48], \"matches\": \"x\", \"showticklabels\": false}, \"xaxis4\": {\"anchor\": \"y4\", \"domain\": [0.5, 0.98], \"matches\": \"x\", \"showticklabels\": false}, \"yaxis\": {\"anchor\": \"x\", \"domain\": [0.0, 0.485], \"title\": {\"text\": \"count\"}}, \"yaxis2\": {\"anchor\": \"x2\", \"domain\": [0.0, 0.485], \"matches\": \"y\", \"showticklabels\": false}, \"yaxis3\": {\"anchor\": \"x3\", \"domain\": [0.515, 1.0], \"matches\": \"y\", \"title\": {\"text\": \"count\"}}, \"yaxis4\": {\"anchor\": \"x4\", \"domain\": [0.515, 1.0], \"matches\": \"y\", \"showticklabels\": false}},\n",
              "                        {\"responsive\": true}\n",
              "                    ).then(function(){\n",
              "                            \n",
              "var gd = document.getElementById('470cec82-c2ce-420c-bf78-889b1bb9f9a7');\n",
              "var x = new MutationObserver(function (mutations, observer) {{\n",
              "        var display = window.getComputedStyle(gd).display;\n",
              "        if (!display || display === 'none') {{\n",
              "            console.log([gd, 'removed!']);\n",
              "            Plotly.purge(gd);\n",
              "            observer.disconnect();\n",
              "        }}\n",
              "}});\n",
              "\n",
              "// Listen for the removal of the full notebook cells\n",
              "var notebookContainer = gd.closest('#notebook-container');\n",
              "if (notebookContainer) {{\n",
              "    x.observe(notebookContainer, {childList: true});\n",
              "}}\n",
              "\n",
              "// Listen for the clearing of the current output cell\n",
              "var outputEl = gd.closest('.output');\n",
              "if (outputEl) {{\n",
              "    x.observe(outputEl, {childList: true});\n",
              "}}\n",
              "\n",
              "                        })\n",
              "                };\n",
              "                \n",
              "            </script>\n",
              "        </div>\n",
              "</body>\n",
              "</html>"
            ]
          },
          "metadata": {
            "tags": []
          }
        }
      ]
    },
    {
      "cell_type": "code",
      "metadata": {
        "id": "d3S9eKEnV3vV",
        "colab_type": "code",
        "colab": {
          "base_uri": "https://localhost:8080/",
          "height": 399
        },
        "outputId": "8d6a46d0-b847-4084-c55a-d05b9bb39efa"
      },
      "source": [
        "# przygotowanie danych do modelu\n",
        "df_dummies = pd.get_dummies(df, drop_first = True)\n",
        "df_dummies"
      ],
      "execution_count": 138,
      "outputs": [
        {
          "output_type": "execute_result",
          "data": {
            "text/html": [
              "<div>\n",
              "<style scoped>\n",
              "    .dataframe tbody tr th:only-of-type {\n",
              "        vertical-align: middle;\n",
              "    }\n",
              "\n",
              "    .dataframe tbody tr th {\n",
              "        vertical-align: top;\n",
              "    }\n",
              "\n",
              "    .dataframe thead th {\n",
              "        text-align: right;\n",
              "    }\n",
              "</style>\n",
              "<table border=\"1\" class=\"dataframe\">\n",
              "  <thead>\n",
              "    <tr style=\"text-align: right;\">\n",
              "      <th></th>\n",
              "      <th>age</th>\n",
              "      <th>bmi</th>\n",
              "      <th>children</th>\n",
              "      <th>charges</th>\n",
              "      <th>sex_male</th>\n",
              "      <th>smoker_yes</th>\n",
              "      <th>region_northwest</th>\n",
              "      <th>region_southeast</th>\n",
              "      <th>region_southwest</th>\n",
              "    </tr>\n",
              "  </thead>\n",
              "  <tbody>\n",
              "    <tr>\n",
              "      <th>0</th>\n",
              "      <td>19</td>\n",
              "      <td>27.900</td>\n",
              "      <td>0</td>\n",
              "      <td>16884.92400</td>\n",
              "      <td>0</td>\n",
              "      <td>1</td>\n",
              "      <td>0</td>\n",
              "      <td>0</td>\n",
              "      <td>1</td>\n",
              "    </tr>\n",
              "    <tr>\n",
              "      <th>1</th>\n",
              "      <td>18</td>\n",
              "      <td>33.770</td>\n",
              "      <td>1</td>\n",
              "      <td>1725.55230</td>\n",
              "      <td>1</td>\n",
              "      <td>0</td>\n",
              "      <td>0</td>\n",
              "      <td>1</td>\n",
              "      <td>0</td>\n",
              "    </tr>\n",
              "    <tr>\n",
              "      <th>2</th>\n",
              "      <td>28</td>\n",
              "      <td>33.000</td>\n",
              "      <td>3</td>\n",
              "      <td>4449.46200</td>\n",
              "      <td>1</td>\n",
              "      <td>0</td>\n",
              "      <td>0</td>\n",
              "      <td>1</td>\n",
              "      <td>0</td>\n",
              "    </tr>\n",
              "    <tr>\n",
              "      <th>3</th>\n",
              "      <td>33</td>\n",
              "      <td>22.705</td>\n",
              "      <td>0</td>\n",
              "      <td>21984.47061</td>\n",
              "      <td>1</td>\n",
              "      <td>0</td>\n",
              "      <td>1</td>\n",
              "      <td>0</td>\n",
              "      <td>0</td>\n",
              "    </tr>\n",
              "    <tr>\n",
              "      <th>4</th>\n",
              "      <td>32</td>\n",
              "      <td>28.880</td>\n",
              "      <td>0</td>\n",
              "      <td>3866.85520</td>\n",
              "      <td>1</td>\n",
              "      <td>0</td>\n",
              "      <td>1</td>\n",
              "      <td>0</td>\n",
              "      <td>0</td>\n",
              "    </tr>\n",
              "    <tr>\n",
              "      <th>...</th>\n",
              "      <td>...</td>\n",
              "      <td>...</td>\n",
              "      <td>...</td>\n",
              "      <td>...</td>\n",
              "      <td>...</td>\n",
              "      <td>...</td>\n",
              "      <td>...</td>\n",
              "      <td>...</td>\n",
              "      <td>...</td>\n",
              "    </tr>\n",
              "    <tr>\n",
              "      <th>1333</th>\n",
              "      <td>50</td>\n",
              "      <td>30.970</td>\n",
              "      <td>3</td>\n",
              "      <td>10600.54830</td>\n",
              "      <td>1</td>\n",
              "      <td>0</td>\n",
              "      <td>1</td>\n",
              "      <td>0</td>\n",
              "      <td>0</td>\n",
              "    </tr>\n",
              "    <tr>\n",
              "      <th>1334</th>\n",
              "      <td>18</td>\n",
              "      <td>31.920</td>\n",
              "      <td>0</td>\n",
              "      <td>2205.98080</td>\n",
              "      <td>0</td>\n",
              "      <td>0</td>\n",
              "      <td>0</td>\n",
              "      <td>0</td>\n",
              "      <td>0</td>\n",
              "    </tr>\n",
              "    <tr>\n",
              "      <th>1335</th>\n",
              "      <td>18</td>\n",
              "      <td>36.850</td>\n",
              "      <td>0</td>\n",
              "      <td>1629.83350</td>\n",
              "      <td>0</td>\n",
              "      <td>0</td>\n",
              "      <td>0</td>\n",
              "      <td>1</td>\n",
              "      <td>0</td>\n",
              "    </tr>\n",
              "    <tr>\n",
              "      <th>1336</th>\n",
              "      <td>21</td>\n",
              "      <td>25.800</td>\n",
              "      <td>0</td>\n",
              "      <td>2007.94500</td>\n",
              "      <td>0</td>\n",
              "      <td>0</td>\n",
              "      <td>0</td>\n",
              "      <td>0</td>\n",
              "      <td>1</td>\n",
              "    </tr>\n",
              "    <tr>\n",
              "      <th>1337</th>\n",
              "      <td>61</td>\n",
              "      <td>29.070</td>\n",
              "      <td>0</td>\n",
              "      <td>29141.36030</td>\n",
              "      <td>0</td>\n",
              "      <td>1</td>\n",
              "      <td>1</td>\n",
              "      <td>0</td>\n",
              "      <td>0</td>\n",
              "    </tr>\n",
              "  </tbody>\n",
              "</table>\n",
              "<p>1337 rows × 9 columns</p>\n",
              "</div>"
            ],
            "text/plain": [
              "      age     bmi  ...  region_southeast  region_southwest\n",
              "0      19  27.900  ...                 0                 1\n",
              "1      18  33.770  ...                 1                 0\n",
              "2      28  33.000  ...                 1                 0\n",
              "3      33  22.705  ...                 0                 0\n",
              "4      32  28.880  ...                 0                 0\n",
              "...   ...     ...  ...               ...               ...\n",
              "1333   50  30.970  ...                 0                 0\n",
              "1334   18  31.920  ...                 0                 0\n",
              "1335   18  36.850  ...                 1                 0\n",
              "1336   21  25.800  ...                 0                 1\n",
              "1337   61  29.070  ...                 0                 0\n",
              "\n",
              "[1337 rows x 9 columns]"
            ]
          },
          "metadata": {
            "tags": []
          },
          "execution_count": 138
        }
      ]
    },
    {
      "cell_type": "code",
      "metadata": {
        "id": "yDtSfadDXMbO",
        "colab_type": "code",
        "colab": {
          "base_uri": "https://localhost:8080/",
          "height": 311
        },
        "outputId": "42b7c6c9-e3cb-452b-b111-2ed8b8efc808"
      },
      "source": [
        "# badanie korelacji poszczegolnych zmiennych\n",
        "corr = df_dummies.corr()\n",
        "corr"
      ],
      "execution_count": 139,
      "outputs": [
        {
          "output_type": "execute_result",
          "data": {
            "text/html": [
              "<div>\n",
              "<style scoped>\n",
              "    .dataframe tbody tr th:only-of-type {\n",
              "        vertical-align: middle;\n",
              "    }\n",
              "\n",
              "    .dataframe tbody tr th {\n",
              "        vertical-align: top;\n",
              "    }\n",
              "\n",
              "    .dataframe thead th {\n",
              "        text-align: right;\n",
              "    }\n",
              "</style>\n",
              "<table border=\"1\" class=\"dataframe\">\n",
              "  <thead>\n",
              "    <tr style=\"text-align: right;\">\n",
              "      <th></th>\n",
              "      <th>age</th>\n",
              "      <th>bmi</th>\n",
              "      <th>children</th>\n",
              "      <th>charges</th>\n",
              "      <th>sex_male</th>\n",
              "      <th>smoker_yes</th>\n",
              "      <th>region_northwest</th>\n",
              "      <th>region_southeast</th>\n",
              "      <th>region_southwest</th>\n",
              "    </tr>\n",
              "  </thead>\n",
              "  <tbody>\n",
              "    <tr>\n",
              "      <th>age</th>\n",
              "      <td>1.000000</td>\n",
              "      <td>0.109344</td>\n",
              "      <td>0.041536</td>\n",
              "      <td>0.298308</td>\n",
              "      <td>-0.019814</td>\n",
              "      <td>-0.025587</td>\n",
              "      <td>0.001495</td>\n",
              "      <td>-0.012311</td>\n",
              "      <td>0.009415</td>\n",
              "    </tr>\n",
              "    <tr>\n",
              "      <th>bmi</th>\n",
              "      <td>0.109344</td>\n",
              "      <td>1.000000</td>\n",
              "      <td>0.012755</td>\n",
              "      <td>0.198401</td>\n",
              "      <td>0.046397</td>\n",
              "      <td>0.003746</td>\n",
              "      <td>-0.136138</td>\n",
              "      <td>0.270057</td>\n",
              "      <td>-0.006211</td>\n",
              "    </tr>\n",
              "    <tr>\n",
              "      <th>children</th>\n",
              "      <td>0.041536</td>\n",
              "      <td>0.012755</td>\n",
              "      <td>1.000000</td>\n",
              "      <td>0.067389</td>\n",
              "      <td>0.017848</td>\n",
              "      <td>0.007331</td>\n",
              "      <td>0.026044</td>\n",
              "      <td>-0.023492</td>\n",
              "      <td>0.021538</td>\n",
              "    </tr>\n",
              "    <tr>\n",
              "      <th>charges</th>\n",
              "      <td>0.298308</td>\n",
              "      <td>0.198401</td>\n",
              "      <td>0.067389</td>\n",
              "      <td>1.000000</td>\n",
              "      <td>0.058044</td>\n",
              "      <td>0.787234</td>\n",
              "      <td>-0.038695</td>\n",
              "      <td>0.073578</td>\n",
              "      <td>-0.043637</td>\n",
              "    </tr>\n",
              "    <tr>\n",
              "      <th>sex_male</th>\n",
              "      <td>-0.019814</td>\n",
              "      <td>0.046397</td>\n",
              "      <td>0.017848</td>\n",
              "      <td>0.058044</td>\n",
              "      <td>1.000000</td>\n",
              "      <td>0.076596</td>\n",
              "      <td>-0.012482</td>\n",
              "      <td>0.017578</td>\n",
              "      <td>-0.003767</td>\n",
              "    </tr>\n",
              "    <tr>\n",
              "      <th>smoker_yes</th>\n",
              "      <td>-0.025587</td>\n",
              "      <td>0.003746</td>\n",
              "      <td>0.007331</td>\n",
              "      <td>0.787234</td>\n",
              "      <td>0.076596</td>\n",
              "      <td>1.000000</td>\n",
              "      <td>-0.036321</td>\n",
              "      <td>0.068282</td>\n",
              "      <td>-0.037168</td>\n",
              "    </tr>\n",
              "    <tr>\n",
              "      <th>region_northwest</th>\n",
              "      <td>0.001495</td>\n",
              "      <td>-0.136138</td>\n",
              "      <td>0.026044</td>\n",
              "      <td>-0.038695</td>\n",
              "      <td>-0.012482</td>\n",
              "      <td>-0.036321</td>\n",
              "      <td>1.000000</td>\n",
              "      <td>-0.345909</td>\n",
              "      <td>-0.320493</td>\n",
              "    </tr>\n",
              "    <tr>\n",
              "      <th>region_southeast</th>\n",
              "      <td>-0.012311</td>\n",
              "      <td>0.270057</td>\n",
              "      <td>-0.023492</td>\n",
              "      <td>0.073578</td>\n",
              "      <td>0.017578</td>\n",
              "      <td>0.068282</td>\n",
              "      <td>-0.345909</td>\n",
              "      <td>1.000000</td>\n",
              "      <td>-0.346614</td>\n",
              "    </tr>\n",
              "    <tr>\n",
              "      <th>region_southwest</th>\n",
              "      <td>0.009415</td>\n",
              "      <td>-0.006211</td>\n",
              "      <td>0.021538</td>\n",
              "      <td>-0.043637</td>\n",
              "      <td>-0.003767</td>\n",
              "      <td>-0.037168</td>\n",
              "      <td>-0.320493</td>\n",
              "      <td>-0.346614</td>\n",
              "      <td>1.000000</td>\n",
              "    </tr>\n",
              "  </tbody>\n",
              "</table>\n",
              "</div>"
            ],
            "text/plain": [
              "                       age       bmi  ...  region_southeast  region_southwest\n",
              "age               1.000000  0.109344  ...         -0.012311          0.009415\n",
              "bmi               0.109344  1.000000  ...          0.270057         -0.006211\n",
              "children          0.041536  0.012755  ...         -0.023492          0.021538\n",
              "charges           0.298308  0.198401  ...          0.073578         -0.043637\n",
              "sex_male         -0.019814  0.046397  ...          0.017578         -0.003767\n",
              "smoker_yes       -0.025587  0.003746  ...          0.068282         -0.037168\n",
              "region_northwest  0.001495 -0.136138  ...         -0.345909         -0.320493\n",
              "region_southeast -0.012311  0.270057  ...          1.000000         -0.346614\n",
              "region_southwest  0.009415 -0.006211  ...         -0.346614          1.000000\n",
              "\n",
              "[9 rows x 9 columns]"
            ]
          },
          "metadata": {
            "tags": []
          },
          "execution_count": 139
        }
      ]
    },
    {
      "cell_type": "code",
      "metadata": {
        "id": "LOftw7FcX0yv",
        "colab_type": "code",
        "colab": {
          "base_uri": "https://localhost:8080/",
          "height": 482
        },
        "outputId": "e1c0fae4-f8f9-4bb0-e109-9862d7f01f65"
      },
      "source": [
        "sns.set(style=\"white\")\n",
        "mask = np.zeros_like(corr, dtype=np.bool)\n",
        "mask[np.triu_indices_from(mask)] = True\n",
        "f, ax = plt.subplots(figsize=(8, 6))\n",
        "cmap = sns.diverging_palette(220, 10, as_cmap=True)\n",
        "sns.heatmap(corr, mask=mask, cmap=cmap, vmax=.3, center=0,\n",
        "            square=True, linewidths=.5, cbar_kws={\"shrink\": .5})"
      ],
      "execution_count": 140,
      "outputs": [
        {
          "output_type": "execute_result",
          "data": {
            "text/plain": [
              "<matplotlib.axes._subplots.AxesSubplot at 0x7fc9a3927470>"
            ]
          },
          "metadata": {
            "tags": []
          },
          "execution_count": 140
        },
        {
          "output_type": "display_data",
          "data": {
            "image/png": "[encoded data removed]",
            "text/plain": [
              "<Figure size 576x432 with 2 Axes>"
            ]
          },
          "metadata": {
            "tags": []
          }
        }
      ]
    },
    {
      "cell_type": "code",
      "metadata": {
        "id": "s6g_-IcBqR2V",
        "colab_type": "code",
        "colab": {
          "base_uri": "https://localhost:8080/",
          "height": 195
        },
        "outputId": "d7a96b0b-ea76-4587-d02a-78374711d4ac"
      },
      "source": [
        "corr['charges'].sort_values(ascending = False)"
      ],
      "execution_count": 141,
      "outputs": [
        {
          "output_type": "execute_result",
          "data": {
            "text/plain": [
              "charges             1.000000\n",
              "smoker_yes          0.787234\n",
              "age                 0.298308\n",
              "bmi                 0.198401\n",
              "region_southeast    0.073578\n",
              "children            0.067389\n",
              "sex_male            0.058044\n",
              "region_northwest   -0.038695\n",
              "region_southwest   -0.043637\n",
              "Name: charges, dtype: float64"
            ]
          },
          "metadata": {
            "tags": []
          },
          "execution_count": 141
        }
      ]
    },
    {
      "cell_type": "code",
      "metadata": {
        "id": "AV-dZI3FqwDX",
        "colab_type": "code",
        "colab": {
          "base_uri": "https://localhost:8080/",
          "height": 286
        },
        "outputId": "bdb5ea2e-6836-42b8-c0d5-459859cffe5f"
      },
      "source": [
        "sns.set()\n",
        "corr['charges'].sort_values(ascending = True)[:-1].plot(kind='barh')"
      ],
      "execution_count": 142,
      "outputs": [
        {
          "output_type": "execute_result",
          "data": {
            "text/plain": [
              "<matplotlib.axes._subplots.AxesSubplot at 0x7fc9a30f3588>"
            ]
          },
          "metadata": {
            "tags": []
          },
          "execution_count": 142
        },
        {
          "output_type": "display_data",
          "data": {
            "image/png": "[encoded data removed]",
            "text/plain": [
              "<Figure size 432x288 with 1 Axes>"
            ]
          },
          "metadata": {
            "tags": []
          }
        }
      ]
    },
    {
      "cell_type": "code",
      "metadata": {
        "id": "gAd5BZvMzQMI",
        "colab_type": "code",
        "colab": {
          "base_uri": "https://localhost:8080/",
          "height": 399
        },
        "outputId": "7f44b3ab-b438-4698-a165-383d69f96631"
      },
      "source": [
        "data = df_dummies.copy()\n",
        "target = data.pop('charges')\n",
        "data\n"
      ],
      "execution_count": 143,
      "outputs": [
        {
          "output_type": "execute_result",
          "data": {
            "text/html": [
              "<div>\n",
              "<style scoped>\n",
              "    .dataframe tbody tr th:only-of-type {\n",
              "        vertical-align: middle;\n",
              "    }\n",
              "\n",
              "    .dataframe tbody tr th {\n",
              "        vertical-align: top;\n",
              "    }\n",
              "\n",
              "    .dataframe thead th {\n",
              "        text-align: right;\n",
              "    }\n",
              "</style>\n",
              "<table border=\"1\" class=\"dataframe\">\n",
              "  <thead>\n",
              "    <tr style=\"text-align: right;\">\n",
              "      <th></th>\n",
              "      <th>age</th>\n",
              "      <th>bmi</th>\n",
              "      <th>children</th>\n",
              "      <th>sex_male</th>\n",
              "      <th>smoker_yes</th>\n",
              "      <th>region_northwest</th>\n",
              "      <th>region_southeast</th>\n",
              "      <th>region_southwest</th>\n",
              "    </tr>\n",
              "  </thead>\n",
              "  <tbody>\n",
              "    <tr>\n",
              "      <th>0</th>\n",
              "      <td>19</td>\n",
              "      <td>27.900</td>\n",
              "      <td>0</td>\n",
              "      <td>0</td>\n",
              "      <td>1</td>\n",
              "      <td>0</td>\n",
              "      <td>0</td>\n",
              "      <td>1</td>\n",
              "    </tr>\n",
              "    <tr>\n",
              "      <th>1</th>\n",
              "      <td>18</td>\n",
              "      <td>33.770</td>\n",
              "      <td>1</td>\n",
              "      <td>1</td>\n",
              "      <td>0</td>\n",
              "      <td>0</td>\n",
              "      <td>1</td>\n",
              "      <td>0</td>\n",
              "    </tr>\n",
              "    <tr>\n",
              "      <th>2</th>\n",
              "      <td>28</td>\n",
              "      <td>33.000</td>\n",
              "      <td>3</td>\n",
              "      <td>1</td>\n",
              "      <td>0</td>\n",
              "      <td>0</td>\n",
              "      <td>1</td>\n",
              "      <td>0</td>\n",
              "    </tr>\n",
              "    <tr>\n",
              "      <th>3</th>\n",
              "      <td>33</td>\n",
              "      <td>22.705</td>\n",
              "      <td>0</td>\n",
              "      <td>1</td>\n",
              "      <td>0</td>\n",
              "      <td>1</td>\n",
              "      <td>0</td>\n",
              "      <td>0</td>\n",
              "    </tr>\n",
              "    <tr>\n",
              "      <th>4</th>\n",
              "      <td>32</td>\n",
              "      <td>28.880</td>\n",
              "      <td>0</td>\n",
              "      <td>1</td>\n",
              "      <td>0</td>\n",
              "      <td>1</td>\n",
              "      <td>0</td>\n",
              "      <td>0</td>\n",
              "    </tr>\n",
              "    <tr>\n",
              "      <th>...</th>\n",
              "      <td>...</td>\n",
              "      <td>...</td>\n",
              "      <td>...</td>\n",
              "      <td>...</td>\n",
              "      <td>...</td>\n",
              "      <td>...</td>\n",
              "      <td>...</td>\n",
              "      <td>...</td>\n",
              "    </tr>\n",
              "    <tr>\n",
              "      <th>1333</th>\n",
              "      <td>50</td>\n",
              "      <td>30.970</td>\n",
              "      <td>3</td>\n",
              "      <td>1</td>\n",
              "      <td>0</td>\n",
              "      <td>1</td>\n",
              "      <td>0</td>\n",
              "      <td>0</td>\n",
              "    </tr>\n",
              "    <tr>\n",
              "      <th>1334</th>\n",
              "      <td>18</td>\n",
              "      <td>31.920</td>\n",
              "      <td>0</td>\n",
              "      <td>0</td>\n",
              "      <td>0</td>\n",
              "      <td>0</td>\n",
              "      <td>0</td>\n",
              "      <td>0</td>\n",
              "    </tr>\n",
              "    <tr>\n",
              "      <th>1335</th>\n",
              "      <td>18</td>\n",
              "      <td>36.850</td>\n",
              "      <td>0</td>\n",
              "      <td>0</td>\n",
              "      <td>0</td>\n",
              "      <td>0</td>\n",
              "      <td>1</td>\n",
              "      <td>0</td>\n",
              "    </tr>\n",
              "    <tr>\n",
              "      <th>1336</th>\n",
              "      <td>21</td>\n",
              "      <td>25.800</td>\n",
              "      <td>0</td>\n",
              "      <td>0</td>\n",
              "      <td>0</td>\n",
              "      <td>0</td>\n",
              "      <td>0</td>\n",
              "      <td>1</td>\n",
              "    </tr>\n",
              "    <tr>\n",
              "      <th>1337</th>\n",
              "      <td>61</td>\n",
              "      <td>29.070</td>\n",
              "      <td>0</td>\n",
              "      <td>0</td>\n",
              "      <td>1</td>\n",
              "      <td>1</td>\n",
              "      <td>0</td>\n",
              "      <td>0</td>\n",
              "    </tr>\n",
              "  </tbody>\n",
              "</table>\n",
              "<p>1337 rows × 8 columns</p>\n",
              "</div>"
            ],
            "text/plain": [
              "      age     bmi  ...  region_southeast  region_southwest\n",
              "0      19  27.900  ...                 0                 1\n",
              "1      18  33.770  ...                 1                 0\n",
              "2      28  33.000  ...                 1                 0\n",
              "3      33  22.705  ...                 0                 0\n",
              "4      32  28.880  ...                 0                 0\n",
              "...   ...     ...  ...               ...               ...\n",
              "1333   50  30.970  ...                 0                 0\n",
              "1334   18  31.920  ...                 0                 0\n",
              "1335   18  36.850  ...                 1                 0\n",
              "1336   21  25.800  ...                 0                 1\n",
              "1337   61  29.070  ...                 0                 0\n",
              "\n",
              "[1337 rows x 8 columns]"
            ]
          },
          "metadata": {
            "tags": []
          },
          "execution_count": 143
        }
      ]
    },
    {
      "cell_type": "code",
      "metadata": {
        "id": "IpDjqzeqz2qU",
        "colab_type": "code",
        "colab": {
          "base_uri": "https://localhost:8080/",
          "height": 230
        },
        "outputId": "8b177bf5-d067-4091-c75a-57cc87a87226"
      },
      "source": [
        "target"
      ],
      "execution_count": 144,
      "outputs": [
        {
          "output_type": "execute_result",
          "data": {
            "text/plain": [
              "0       16884.92400\n",
              "1        1725.55230\n",
              "2        4449.46200\n",
              "3       21984.47061\n",
              "4        3866.85520\n",
              "           ...     \n",
              "1333    10600.54830\n",
              "1334     2205.98080\n",
              "1335     1629.83350\n",
              "1336     2007.94500\n",
              "1337    29141.36030\n",
              "Name: charges, Length: 1337, dtype: float64"
            ]
          },
          "metadata": {
            "tags": []
          },
          "execution_count": 144
        }
      ]
    },
    {
      "cell_type": "code",
      "metadata": {
        "id": "4dRk-kAQ0R3M",
        "colab_type": "code",
        "colab": {
          "base_uri": "https://localhost:8080/",
          "height": 88
        },
        "outputId": "a590e296-7b62-4a66-d968-b5faad8796eb"
      },
      "source": [
        "from sklearn.model_selection import train_test_split\n",
        "\n",
        "x_train, x_test, y_train, y_test = train_test_split(data, target, test_size = 0.2)\n",
        "\n",
        "print(f'x train shape:{x_train.shape}')\n",
        "print(f'y train shape:{y_train.shape}')\n",
        "print(f'x test shape:{x_test.shape}')\n",
        "print(f'y test shape:{y_test.shape}')"
      ],
      "execution_count": 145,
      "outputs": [
        {
          "output_type": "stream",
          "text": [
            "x train shape:(1069, 8)\n",
            "y train shape:(1069,)\n",
            "x test shape:(268, 8)\n",
            "y test shape:(268,)\n"
          ],
          "name": "stdout"
        }
      ]
    },
    {
      "cell_type": "code",
      "metadata": {
        "id": "fmbaENXLJUSD",
        "colab_type": "code",
        "colab": {
          "base_uri": "https://localhost:8080/",
          "height": 35
        },
        "outputId": "9350b63c-c24e-411b-ef58-5b514c5f71e6"
      },
      "source": [
        "# import klasy oraz utworzenie jej instancji\n",
        "from sklearn.linear_model import LinearRegression\n",
        "\n",
        "regressor = LinearRegression()\n",
        "# dopasowanie modelu liniowego do danych\n",
        "regressor.fit(data, target)"
      ],
      "execution_count": 146,
      "outputs": [
        {
          "output_type": "execute_result",
          "data": {
            "text/plain": [
              "LinearRegression(copy_X=True, fit_intercept=True, n_jobs=None, normalize=False)"
            ]
          },
          "metadata": {
            "tags": []
          },
          "execution_count": 146
        }
      ]
    },
    {
      "cell_type": "code",
      "metadata": {
        "id": "Wu0PApE91BAe",
        "colab_type": "code",
        "colab": {
          "base_uri": "https://localhost:8080/",
          "height": 35
        },
        "outputId": "0a2a3f38-6e10-4c37-9689-956fc01062b5"
      },
      "source": [
        "print(f'R2 score:{regressor.score(x_test, y_test)}')"
      ],
      "execution_count": 147,
      "outputs": [
        {
          "output_type": "stream",
          "text": [
            "R2 score:0.8141413310529316\n"
          ],
          "name": "stdout"
        }
      ]
    },
    {
      "cell_type": "code",
      "metadata": {
        "id": "9Vn60ymx1KBC",
        "colab_type": "code",
        "colab": {
          "base_uri": "https://localhost:8080/",
          "height": 52
        },
        "outputId": "efae11f1-6a7a-45cb-e154-0e5a2a8fff7a"
      },
      "source": [
        "y_pred = regressor.predict(x_test) \n",
        "y_pred[:10]"
      ],
      "execution_count": 148,
      "outputs": [
        {
          "output_type": "execute_result",
          "data": {
            "text/plain": [
              "array([ 8153.6489,  5133.6261, 14577.2971, 32483.0477,  8831.8608,\n",
              "       13155.0835, 31206.3092,   995.9664, 10634.7586, 11323.7548])"
            ]
          },
          "metadata": {
            "tags": []
          },
          "execution_count": 148
        }
      ]
    },
    {
      "cell_type": "code",
      "metadata": {
        "id": "LCUTHYQ21Wuo",
        "colab_type": "code",
        "colab": {
          "base_uri": "https://localhost:8080/",
          "height": 399
        },
        "outputId": "091638d9-3cdc-4432-d125-d87c3a05105d"
      },
      "source": [
        "y_true = y_test.copy()\n",
        "predictions = pd.DataFrame(data = {'y_test' : y_test, 'y_pred' : y_pred})\n",
        "predictions"
      ],
      "execution_count": 149,
      "outputs": [
        {
          "output_type": "execute_result",
          "data": {
            "text/html": [
              "<div>\n",
              "<style scoped>\n",
              "    .dataframe tbody tr th:only-of-type {\n",
              "        vertical-align: middle;\n",
              "    }\n",
              "\n",
              "    .dataframe tbody tr th {\n",
              "        vertical-align: top;\n",
              "    }\n",
              "\n",
              "    .dataframe thead th {\n",
              "        text-align: right;\n",
              "    }\n",
              "</style>\n",
              "<table border=\"1\" class=\"dataframe\">\n",
              "  <thead>\n",
              "    <tr style=\"text-align: right;\">\n",
              "      <th></th>\n",
              "      <th>y_test</th>\n",
              "      <th>y_pred</th>\n",
              "    </tr>\n",
              "  </thead>\n",
              "  <tbody>\n",
              "    <tr>\n",
              "      <th>900</th>\n",
              "      <td>8688.85885</td>\n",
              "      <td>8153.648881</td>\n",
              "    </tr>\n",
              "    <tr>\n",
              "      <th>1064</th>\n",
              "      <td>5708.86700</td>\n",
              "      <td>5133.626073</td>\n",
              "    </tr>\n",
              "    <tr>\n",
              "      <th>1256</th>\n",
              "      <td>11436.73815</td>\n",
              "      <td>14577.297051</td>\n",
              "    </tr>\n",
              "    <tr>\n",
              "      <th>298</th>\n",
              "      <td>38746.35510</td>\n",
              "      <td>32483.047725</td>\n",
              "    </tr>\n",
              "    <tr>\n",
              "      <th>237</th>\n",
              "      <td>4463.20510</td>\n",
              "      <td>8831.860780</td>\n",
              "    </tr>\n",
              "    <tr>\n",
              "      <th>...</th>\n",
              "      <td>...</td>\n",
              "      <td>...</td>\n",
              "    </tr>\n",
              "    <tr>\n",
              "      <th>534</th>\n",
              "      <td>13831.11520</td>\n",
              "      <td>17064.485225</td>\n",
              "    </tr>\n",
              "    <tr>\n",
              "      <th>542</th>\n",
              "      <td>13887.20400</td>\n",
              "      <td>15519.135573</td>\n",
              "    </tr>\n",
              "    <tr>\n",
              "      <th>760</th>\n",
              "      <td>3925.75820</td>\n",
              "      <td>6393.182478</td>\n",
              "    </tr>\n",
              "    <tr>\n",
              "      <th>1284</th>\n",
              "      <td>47403.88000</td>\n",
              "      <td>39273.458418</td>\n",
              "    </tr>\n",
              "    <tr>\n",
              "      <th>1285</th>\n",
              "      <td>8534.67180</td>\n",
              "      <td>8381.948045</td>\n",
              "    </tr>\n",
              "  </tbody>\n",
              "</table>\n",
              "<p>268 rows × 2 columns</p>\n",
              "</div>"
            ],
            "text/plain": [
              "           y_test        y_pred\n",
              "900    8688.85885   8153.648881\n",
              "1064   5708.86700   5133.626073\n",
              "1256  11436.73815  14577.297051\n",
              "298   38746.35510  32483.047725\n",
              "237    4463.20510   8831.860780\n",
              "...           ...           ...\n",
              "534   13831.11520  17064.485225\n",
              "542   13887.20400  15519.135573\n",
              "760    3925.75820   6393.182478\n",
              "1284  47403.88000  39273.458418\n",
              "1285   8534.67180   8381.948045\n",
              "\n",
              "[268 rows x 2 columns]"
            ]
          },
          "metadata": {
            "tags": []
          },
          "execution_count": 149
        }
      ]
    },
    {
      "cell_type": "code",
      "metadata": {
        "id": "iNUDkipG24cl",
        "colab_type": "code",
        "colab": {
          "base_uri": "https://localhost:8080/",
          "height": 399
        },
        "outputId": "0a7d9974-f80f-4cc0-b3cc-c3d829df31d2"
      },
      "source": [
        "predictions['error'] = predictions['y_test'] - predictions['y_pred']\n",
        "predictions"
      ],
      "execution_count": 150,
      "outputs": [
        {
          "output_type": "execute_result",
          "data": {
            "text/html": [
              "<div>\n",
              "<style scoped>\n",
              "    .dataframe tbody tr th:only-of-type {\n",
              "        vertical-align: middle;\n",
              "    }\n",
              "\n",
              "    .dataframe tbody tr th {\n",
              "        vertical-align: top;\n",
              "    }\n",
              "\n",
              "    .dataframe thead th {\n",
              "        text-align: right;\n",
              "    }\n",
              "</style>\n",
              "<table border=\"1\" class=\"dataframe\">\n",
              "  <thead>\n",
              "    <tr style=\"text-align: right;\">\n",
              "      <th></th>\n",
              "      <th>y_test</th>\n",
              "      <th>y_pred</th>\n",
              "      <th>error</th>\n",
              "    </tr>\n",
              "  </thead>\n",
              "  <tbody>\n",
              "    <tr>\n",
              "      <th>900</th>\n",
              "      <td>8688.85885</td>\n",
              "      <td>8153.648881</td>\n",
              "      <td>535.209969</td>\n",
              "    </tr>\n",
              "    <tr>\n",
              "      <th>1064</th>\n",
              "      <td>5708.86700</td>\n",
              "      <td>5133.626073</td>\n",
              "      <td>575.240927</td>\n",
              "    </tr>\n",
              "    <tr>\n",
              "      <th>1256</th>\n",
              "      <td>11436.73815</td>\n",
              "      <td>14577.297051</td>\n",
              "      <td>-3140.558901</td>\n",
              "    </tr>\n",
              "    <tr>\n",
              "      <th>298</th>\n",
              "      <td>38746.35510</td>\n",
              "      <td>32483.047725</td>\n",
              "      <td>6263.307375</td>\n",
              "    </tr>\n",
              "    <tr>\n",
              "      <th>237</th>\n",
              "      <td>4463.20510</td>\n",
              "      <td>8831.860780</td>\n",
              "      <td>-4368.655680</td>\n",
              "    </tr>\n",
              "    <tr>\n",
              "      <th>...</th>\n",
              "      <td>...</td>\n",
              "      <td>...</td>\n",
              "      <td>...</td>\n",
              "    </tr>\n",
              "    <tr>\n",
              "      <th>534</th>\n",
              "      <td>13831.11520</td>\n",
              "      <td>17064.485225</td>\n",
              "      <td>-3233.370025</td>\n",
              "    </tr>\n",
              "    <tr>\n",
              "      <th>542</th>\n",
              "      <td>13887.20400</td>\n",
              "      <td>15519.135573</td>\n",
              "      <td>-1631.931573</td>\n",
              "    </tr>\n",
              "    <tr>\n",
              "      <th>760</th>\n",
              "      <td>3925.75820</td>\n",
              "      <td>6393.182478</td>\n",
              "      <td>-2467.424278</td>\n",
              "    </tr>\n",
              "    <tr>\n",
              "      <th>1284</th>\n",
              "      <td>47403.88000</td>\n",
              "      <td>39273.458418</td>\n",
              "      <td>8130.421582</td>\n",
              "    </tr>\n",
              "    <tr>\n",
              "      <th>1285</th>\n",
              "      <td>8534.67180</td>\n",
              "      <td>8381.948045</td>\n",
              "      <td>152.723755</td>\n",
              "    </tr>\n",
              "  </tbody>\n",
              "</table>\n",
              "<p>268 rows × 3 columns</p>\n",
              "</div>"
            ],
            "text/plain": [
              "           y_test        y_pred        error\n",
              "900    8688.85885   8153.648881   535.209969\n",
              "1064   5708.86700   5133.626073   575.240927\n",
              "1256  11436.73815  14577.297051 -3140.558901\n",
              "298   38746.35510  32483.047725  6263.307375\n",
              "237    4463.20510   8831.860780 -4368.655680\n",
              "...           ...           ...          ...\n",
              "534   13831.11520  17064.485225 -3233.370025\n",
              "542   13887.20400  15519.135573 -1631.931573\n",
              "760    3925.75820   6393.182478 -2467.424278\n",
              "1284  47403.88000  39273.458418  8130.421582\n",
              "1285   8534.67180   8381.948045   152.723755\n",
              "\n",
              "[268 rows x 3 columns]"
            ]
          },
          "metadata": {
            "tags": []
          },
          "execution_count": 150
        }
      ]
    },
    {
      "cell_type": "code",
      "metadata": {
        "id": "739Ohtc13R3j",
        "colab_type": "code",
        "colab": {
          "base_uri": "https://localhost:8080/",
          "height": 286
        },
        "outputId": "a4808d8f-1455-4ef8-b9ed-d1b45188735f"
      },
      "source": [
        "predictions.error.plot(kind= 'hist', bins = 30)"
      ],
      "execution_count": 151,
      "outputs": [
        {
          "output_type": "execute_result",
          "data": {
            "text/plain": [
              "<matplotlib.axes._subplots.AxesSubplot at 0x7fc9a308fa20>"
            ]
          },
          "metadata": {
            "tags": []
          },
          "execution_count": 151
        },
        {
          "output_type": "display_data",
          "data": {
            "image/png": "[encoded data removed]",
            "text/plain": [
              "<Figure size 432x288 with 1 Axes>"
            ]
          },
          "metadata": {
            "tags": []
          }
        }
      ]
    },
    {
      "cell_type": "code",
      "metadata": {
        "id": "lUPXSZmz3b1u",
        "colab_type": "code",
        "colab": {
          "base_uri": "https://localhost:8080/",
          "height": 35
        },
        "outputId": "22fe6e66-277c-453a-d0df-331519bcbcea"
      },
      "source": [
        "# mean absolute error\n",
        "from sklearn.metrics import mean_absolute_error\n",
        "\n",
        "mae = mean_absolute_error(y_true, y_pred)\n",
        "print(f'MAE wynosi: {mae:.2f}')"
      ],
      "execution_count": 152,
      "outputs": [
        {
          "output_type": "stream",
          "text": [
            "MAE wynosi: 4117.58\n"
          ],
          "name": "stdout"
        }
      ]
    },
    {
      "cell_type": "code",
      "metadata": {
        "id": "4Ptw9Xmt6vF4",
        "colab_type": "code",
        "colab": {
          "base_uri": "https://localhost:8080/",
          "height": 35
        },
        "outputId": "4b40120b-2351-4814-f94f-02e3fb2655e4"
      },
      "source": [
        "regressor.intercept_"
      ],
      "execution_count": 153,
      "outputs": [
        {
          "output_type": "execute_result",
          "data": {
            "text/plain": [
              "-11936.557507206637"
            ]
          },
          "metadata": {
            "tags": []
          },
          "execution_count": 153
        }
      ]
    },
    {
      "cell_type": "code",
      "metadata": {
        "id": "4j8dvX9S62cz",
        "colab_type": "code",
        "colab": {
          "base_uri": "https://localhost:8080/",
          "height": 52
        },
        "outputId": "764c3502-c1c4-47c4-e8d6-6090750d3c02"
      },
      "source": [
        "regressor.coef_"
      ],
      "execution_count": 154,
      "outputs": [
        {
          "output_type": "execute_result",
          "data": {
            "text/plain": [
              "array([  256.7646,   339.2504,   474.8205,  -129.4815, 23847.3288,\n",
              "        -349.2265, -1035.2656,  -960.0814])"
            ]
          },
          "metadata": {
            "tags": []
          },
          "execution_count": 154
        }
      ]
    },
    {
      "cell_type": "code",
      "metadata": {
        "id": "TFAGdo0664qv",
        "colab_type": "code",
        "colab": {
          "base_uri": "https://localhost:8080/",
          "height": 70
        },
        "outputId": "218118dd-0e92-454f-9297-7caa4b045792"
      },
      "source": [
        "data.columns"
      ],
      "execution_count": 155,
      "outputs": [
        {
          "output_type": "execute_result",
          "data": {
            "text/plain": [
              "Index(['age', 'bmi', 'children', 'sex_male', 'smoker_yes', 'region_northwest',\n",
              "       'region_southeast', 'region_southwest'],\n",
              "      dtype='object')"
            ]
          },
          "metadata": {
            "tags": []
          },
          "execution_count": 155
        }
      ]
    },
    {
      "cell_type": "markdown",
      "metadata": {
        "id": "bDXaNRTT7JMD",
        "colab_type": "text"
      },
      "source": [
        "Eliminacja wsteczna"
      ]
    },
    {
      "cell_type": "code",
      "metadata": {
        "id": "vI0qufIA7CvX",
        "colab_type": "code",
        "colab": {
          "base_uri": "https://localhost:8080/",
          "height": 141
        },
        "outputId": "2e2d8e19-ff58-453a-a7a8-a991588b9b44"
      },
      "source": [
        "import statsmodels.api as sm\n",
        "\n",
        "X_train_ols = x_train.copy()\n",
        "# przeształcenie na ndarray\n",
        "X_train_ols = X_train_ols.values\n",
        "# dodanie jedynek\n",
        "X_train_ols = sm.add_constant(X_train_ols)\n",
        "X_train_ols"
      ],
      "execution_count": 163,
      "outputs": [
        {
          "output_type": "execute_result",
          "data": {
            "text/plain": [
              "array([[ 1.   , 23.   , 24.51 , ...,  0.   ,  0.   ,  0.   ],\n",
              "       [ 1.   , 21.   , 25.745, ...,  0.   ,  0.   ,  0.   ],\n",
              "       [ 1.   , 52.   , 37.525, ...,  1.   ,  0.   ,  0.   ],\n",
              "       ...,\n",
              "       [ 1.   , 20.   , 22.   , ...,  0.   ,  0.   ,  1.   ],\n",
              "       [ 1.   , 38.   , 28.   , ...,  0.   ,  0.   ,  1.   ],\n",
              "       [ 1.   , 35.   , 35.86 , ...,  0.   ,  1.   ,  0.   ]])"
            ]
          },
          "metadata": {
            "tags": []
          },
          "execution_count": 163
        }
      ]
    },
    {
      "cell_type": "code",
      "metadata": {
        "id": "6KH5EKt38CHO",
        "colab_type": "code",
        "colab": {
          "base_uri": "https://localhost:8080/",
          "height": 586
        },
        "outputId": "3cea3489-d028-4266-c57d-f59247963aa4"
      },
      "source": [
        "# OLS jest regresją liniową w bibliotece statsmodels\n",
        "ols = sm.OLS(endog = y_train, exog= X_train_ols).fit()\n",
        "predictors = ['const'] + list(x_train.columns)\n",
        "print(ols.summary(xname=predictors))"
      ],
      "execution_count": 157,
      "outputs": [
        {
          "output_type": "stream",
          "text": [
            "                            OLS Regression Results                            \n",
            "==============================================================================\n",
            "Dep. Variable:                charges   R-squared:                       0.730\n",
            "Model:                            OLS   Adj. R-squared:                  0.728\n",
            "Method:                 Least Squares   F-statistic:                     358.1\n",
            "Date:                Sun, 12 Jul 2020   Prob (F-statistic):          4.94e-295\n",
            "Time:                        12:30:54   Log-Likelihood:                -10831.\n",
            "No. Observations:                1069   AIC:                         2.168e+04\n",
            "Df Residuals:                    1060   BIC:                         2.172e+04\n",
            "Df Model:                           8                                         \n",
            "Covariance Type:            nonrobust                                         \n",
            "====================================================================================\n",
            "                       coef    std err          t      P>|t|      [0.025      0.975]\n",
            "------------------------------------------------------------------------------------\n",
            "const            -1.109e+04   1114.260     -9.955      0.000   -1.33e+04   -8906.246\n",
            "age                248.2107     13.507     18.376      0.000     221.707     274.715\n",
            "bmi                318.7014     32.543      9.793      0.000     254.845     382.558\n",
            "children           533.0100    156.796      3.399      0.001     225.344     840.676\n",
            "sex_male          -101.5421    375.787     -0.270      0.787    -838.914     635.829\n",
            "smoker_yes        2.308e+04    471.030     48.994      0.000    2.22e+04     2.4e+04\n",
            "region_northwest  -391.7615    537.999     -0.728      0.467   -1447.426     663.903\n",
            "region_southeast  -838.9196    546.101     -1.536      0.125   -1910.481     232.641\n",
            "region_southwest  -659.1398    539.459     -1.222      0.222   -1717.668     399.388\n",
            "==============================================================================\n",
            "Omnibus:                      266.561   Durbin-Watson:                   1.966\n",
            "Prob(Omnibus):                  0.000   Jarque-Bera (JB):              642.069\n",
            "Skew:                           1.330   Prob(JB):                    3.77e-140\n",
            "Kurtosis:                       5.710   Cond. No.                         311.\n",
            "==============================================================================\n",
            "\n",
            "Warnings:\n",
            "[1] Standard Errors assume that the covariance matrix of the errors is correctly specified.\n"
          ],
          "name": "stdout"
        }
      ]
    },
    {
      "cell_type": "code",
      "metadata": {
        "id": "nMS8HEVN9DiH",
        "colab_type": "code",
        "colab": {
          "base_uri": "https://localhost:8080/",
          "height": 568
        },
        "outputId": "41aa39c4-2e74-4c81-9ca7-70cd2dbbc2de"
      },
      "source": [
        "x_selected = X_train_ols[:, [0, 1, 2, 3, 5, 6, 7, 8]]\n",
        "\n",
        "\n",
        "ols = sm.OLS(endog=y_train, exog=x_selected).fit()\n",
        "print(ols.summary(xname=predictors))"
      ],
      "execution_count": 164,
      "outputs": [
        {
          "output_type": "stream",
          "text": [
            "                            OLS Regression Results                            \n",
            "==============================================================================\n",
            "Dep. Variable:                charges   R-squared:                       0.730\n",
            "Model:                            OLS   Adj. R-squared:                  0.728\n",
            "Method:                 Least Squares   F-statistic:                     409.6\n",
            "Date:                Sun, 12 Jul 2020   Prob (F-statistic):          2.44e-296\n",
            "Time:                        12:37:05   Log-Likelihood:                -10831.\n",
            "No. Observations:                1069   AIC:                         2.168e+04\n",
            "Df Residuals:                    1061   BIC:                         2.172e+04\n",
            "Df Model:                           7                                         \n",
            "Covariance Type:            nonrobust                                         \n",
            "====================================================================================\n",
            "                       coef    std err          t      P>|t|      [0.025      0.975]\n",
            "------------------------------------------------------------------------------------\n",
            "const            -1.113e+04   1102.801    -10.097      0.000   -1.33e+04   -8970.891\n",
            "age                248.3291     13.494     18.402      0.000     221.850     274.808\n",
            "bmi                318.2418     32.485      9.797      0.000     254.500     381.983\n",
            "children           533.0663    156.728      3.401      0.001     225.535     840.598\n",
            "smoker_yes        2.307e+04    469.131     49.170      0.000    2.21e+04     2.4e+04\n",
            "region_northwest  -392.5326    537.756     -0.730      0.466   -1447.719     662.654\n",
            "region_southeast  -835.7955    545.740     -1.531      0.126   -1906.647     235.056\n",
            "region_southwest  -656.0584    539.102     -1.217      0.224   -1713.886     401.770\n",
            "==============================================================================\n",
            "Omnibus:                      266.747   Durbin-Watson:                   1.967\n",
            "Prob(Omnibus):                  0.000   Jarque-Bera (JB):              642.968\n",
            "Skew:                           1.330   Prob(JB):                    2.41e-140\n",
            "Kurtosis:                       5.712   Cond. No.                         308.\n",
            "==============================================================================\n",
            "\n",
            "Warnings:\n",
            "[1] Standard Errors assume that the covariance matrix of the errors is correctly specified.\n"
          ],
          "name": "stdout"
        }
      ]
    },
    {
      "cell_type": "code",
      "metadata": {
        "id": "zrNqBs1g_LOm",
        "colab_type": "code",
        "colab": {
          "base_uri": "https://localhost:8080/",
          "height": 550
        },
        "outputId": "e94fe001-7208-452b-d36c-f57ffe84091d"
      },
      "source": [
        "x_selected = X_train_ols[:, [0, 1, 2, 3, 5, 7, 8]]\n",
        "\n",
        "\n",
        "ols = sm.OLS(endog=y_train, exog=x_selected).fit()\n",
        "print(ols.summary(xname=predictors))"
      ],
      "execution_count": 168,
      "outputs": [
        {
          "output_type": "stream",
          "text": [
            "                            OLS Regression Results                            \n",
            "==============================================================================\n",
            "Dep. Variable:                charges   R-squared:                       0.730\n",
            "Model:                            OLS   Adj. R-squared:                  0.728\n",
            "Method:                 Least Squares   F-statistic:                     478.0\n",
            "Date:                Sun, 12 Jul 2020   Prob (F-statistic):          1.40e-297\n",
            "Time:                        12:47:52   Log-Likelihood:                -10831.\n",
            "No. Observations:                1069   AIC:                         2.168e+04\n",
            "Df Residuals:                    1062   BIC:                         2.171e+04\n",
            "Df Model:                           6                                         \n",
            "Covariance Type:            nonrobust                                         \n",
            "====================================================================================\n",
            "                       coef    std err          t      P>|t|      [0.025      0.975]\n",
            "------------------------------------------------------------------------------------\n",
            "const            -1.132e+04   1072.467    -10.557      0.000   -1.34e+04   -9217.200\n",
            "age                248.4224     13.491     18.414      0.000     221.951     274.894\n",
            "bmi                317.6363     32.467      9.783      0.000     253.930     381.343\n",
            "children           531.0554    156.669      3.390      0.001     223.640     838.471\n",
            "smoker_yes        2.308e+04    468.649     49.250      0.000    2.22e+04     2.4e+04\n",
            "region_southeast  -633.8835    470.340     -1.348      0.178   -1556.785     289.018\n",
            "region_southwest  -454.7878    463.150     -0.982      0.326   -1363.580     454.005\n",
            "==============================================================================\n",
            "Omnibus:                      266.297   Durbin-Watson:                   1.969\n",
            "Prob(Omnibus):                  0.000   Jarque-Bera (JB):              640.848\n",
            "Skew:                           1.329   Prob(JB):                    6.94e-140\n",
            "Kurtosis:                       5.706   Cond. No.                         295.\n",
            "==============================================================================\n",
            "\n",
            "Warnings:\n",
            "[1] Standard Errors assume that the covariance matrix of the errors is correctly specified.\n"
          ],
          "name": "stdout"
        }
      ]
    },
    {
      "cell_type": "code",
      "metadata": {
        "id": "_qgd90GHELUj",
        "colab_type": "code",
        "colab": {
          "base_uri": "https://localhost:8080/",
          "height": 532
        },
        "outputId": "d082f5d3-ec92-4198-c4f2-0e34c78d4e7f"
      },
      "source": [
        "x_selected = X_train_ols[:, [0, 1, 2, 3, 5, 7]]\n",
        "predictors.remove('region_southwest')\n",
        "\n",
        "ols = sm.OLS(endog=y_train, exog=x_selected).fit()\n",
        "print(ols.summary(xname=predictors))"
      ],
      "execution_count": 169,
      "outputs": [
        {
          "output_type": "stream",
          "text": [
            "                            OLS Regression Results                            \n",
            "==============================================================================\n",
            "Dep. Variable:                charges   R-squared:                       0.730\n",
            "Model:                            OLS   Adj. R-squared:                  0.728\n",
            "Method:                 Least Squares   F-statistic:                     573.4\n",
            "Date:                Sun, 12 Jul 2020   Prob (F-statistic):          8.97e-299\n",
            "Time:                        12:48:48   Log-Likelihood:                -10832.\n",
            "No. Observations:                1069   AIC:                         2.168e+04\n",
            "Df Residuals:                    1063   BIC:                         2.171e+04\n",
            "Df Model:                           5                                         \n",
            "Covariance Type:            nonrobust                                         \n",
            "====================================================================================\n",
            "                       coef    std err          t      P>|t|      [0.025      0.975]\n",
            "------------------------------------------------------------------------------------\n",
            "const            -1.139e+04   1069.862    -10.651      0.000   -1.35e+04   -9295.409\n",
            "age                248.4526     13.490     18.417      0.000     221.982     274.924\n",
            "bmi                314.7207     32.330      9.735      0.000     251.282     378.159\n",
            "children           534.0548    156.637      3.410      0.001     226.703     841.407\n",
            "smoker_yes        2.308e+04    468.626     49.260      0.000    2.22e+04     2.4e+04\n",
            "region_southeast  -469.1823    439.409     -1.068      0.286   -1331.390     393.025\n",
            "==============================================================================\n",
            "Omnibus:                      267.310   Durbin-Watson:                   1.972\n",
            "Prob(Omnibus):                  0.000   Jarque-Bera (JB):              644.889\n",
            "Skew:                           1.333   Prob(JB):                    9.21e-141\n",
            "Kurtosis:                       5.716   Cond. No.                         294.\n",
            "==============================================================================\n",
            "\n",
            "Warnings:\n",
            "[1] Standard Errors assume that the covariance matrix of the errors is correctly specified.\n"
          ],
          "name": "stdout"
        }
      ]
    },
    {
      "cell_type": "code",
      "metadata": {
        "id": "17kynx29EhP9",
        "colab_type": "code",
        "colab": {
          "base_uri": "https://localhost:8080/",
          "height": 515
        },
        "outputId": "b498a937-9aac-4cd1-86f2-769f2b0c2538"
      },
      "source": [
        "x_selected = X_train_ols[:, [0, 1, 2, 3, 5]]\n",
        "predictors.remove('region_southeast')\n",
        "\n",
        "ols = sm.OLS(endog=y_train, exog=x_selected).fit()\n",
        "print(ols.summary(xname=predictors))"
      ],
      "execution_count": 170,
      "outputs": [
        {
          "output_type": "stream",
          "text": [
            "                            OLS Regression Results                            \n",
            "==============================================================================\n",
            "Dep. Variable:                charges   R-squared:                       0.729\n",
            "Model:                            OLS   Adj. R-squared:                  0.728\n",
            "Method:                 Least Squares   F-statistic:                     716.3\n",
            "Date:                Sun, 12 Jul 2020   Prob (F-statistic):          5.56e-300\n",
            "Time:                        12:49:20   Log-Likelihood:                -10832.\n",
            "No. Observations:                1069   AIC:                         2.167e+04\n",
            "Df Residuals:                    1064   BIC:                         2.170e+04\n",
            "Df Model:                           4                                         \n",
            "Covariance Type:            nonrobust                                         \n",
            "==============================================================================\n",
            "                 coef    std err          t      P>|t|      [0.025      0.975]\n",
            "------------------------------------------------------------------------------\n",
            "const      -1.126e+04   1062.104    -10.599      0.000   -1.33e+04   -9172.693\n",
            "age          249.1913     13.474     18.495      0.000     222.753     275.629\n",
            "bmi          305.2674     31.097      9.817      0.000     244.250     366.285\n",
            "children     537.9722    156.604      3.435      0.001     230.685     845.260\n",
            "smoker_yes  2.304e+04    467.005     49.341      0.000    2.21e+04     2.4e+04\n",
            "==============================================================================\n",
            "Omnibus:                      265.622   Durbin-Watson:                   1.971\n",
            "Prob(Omnibus):                  0.000   Jarque-Bera (JB):              638.039\n",
            "Skew:                           1.326   Prob(JB):                    2.83e-139\n",
            "Kurtosis:                       5.700   Cond. No.                         292.\n",
            "==============================================================================\n",
            "\n",
            "Warnings:\n",
            "[1] Standard Errors assume that the covariance matrix of the errors is correctly specified.\n"
          ],
          "name": "stdout"
        }
      ]
    }
  ]
}